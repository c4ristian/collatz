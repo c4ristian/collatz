{
 "cells": [
  {
   "cell_type": "markdown",
   "metadata": {
    "collapsed": true,
    "pycharm": {
     "name": "#%% md\n"
    }
   },
   "source": [
    "## Collatz binary notebook"
   ]
  },
  {
   "cell_type": "code",
   "execution_count": 5,
   "outputs": [
    {
     "name": "stdout",
     "text": [
      "Start value: 37  K: 3 \n\n v_1  x_i  odd  bin_len  bin_str   log2_xi  bin_diff\n  37   37    1        6   100101  5.209453         0\n  37  112    0        7  1110000  6.807355         1\n  37   56    0        6   111000  5.807355        -1\n  37   28    0        5    11100  4.807355        -1\n  37   14    0        4     1110  3.807355        -1\n  37    7    1        3      111  2.807355        -1\n  37   22    0        5    10110  4.459432         2\n  37   11    1        4     1011  3.459432        -1\n  37   34    0        6   100010  5.087463         2\n  37   17    1        5    10001  4.087463        -1\n  37   52    0        6   110100  5.700440         1\n  37   26    0        5    11010  4.700440        -1\n  37   13    1        4     1101  3.700440        -1\n  37   40    0        6   101000  5.321928         2\n  37   20    0        5    10100  4.321928        -1\n  37   10    0        4     1010  3.321928        -1\n  37    5    1        3      101  2.321928        -1\n  37   16    0        5    10000  4.000000         2\n  37    8    0        4     1000  3.000000        -1\n  37    4    0        3      100  2.000000        -1\n  37    2    0        2       10  1.000000        -1\n  37    1    1        1        1  0.000000        -1 \n\n"
     ],
     "output_type": "stream"
    }
   ],
   "source": [
    "\"\"\"\n",
    "This experimental notebook analyses randomly generated collatz sequences \n",
    "from a binary perspective.\n",
    "\"\"\"\n",
    "\n",
    "# Fix possible import problems\n",
    "import sys\n",
    "sys.path.append(\"..\")\n",
    "\n",
    "# Imports\n",
    "import random as rnd\n",
    "from math import log2\n",
    "import matplotlib.pyplot as plt\n",
    "import pandas as pd\n",
    "from collatz import generator as gen\n",
    "from collatz import commons as com\n",
    "\n",
    "# Configuration\n",
    "MAX_VALUE = 101\n",
    "K_FACTOR = 3\n",
    "MAX_ITERATIONS = 600\n",
    "PRINT_TABLE = True\n",
    "\n",
    "START_VALUE = rnd.randint(1, MAX_VALUE)\n",
    "\n",
    "if START_VALUE % 2 == 0:\n",
    "    START_VALUE = START_VALUE + 1\n",
    "\n",
    "pd.set_option('display.expand_frame_repr', False)\n",
    "pd.set_option('display.max_rows', 10000)\n",
    "pd.set_option('display.expand_frame_repr', False)\n",
    "\n",
    "# Generate Collatz sequence\n",
    "analysis_frame = gen.generate_collatz_sequence(\n",
    "    start_value=START_VALUE, k=K_FACTOR, max_iterations=MAX_ITERATIONS)\n",
    "\n",
    "# Derive new fields\n",
    "analysis_frame[\"v_1\"] = START_VALUE\n",
    "analysis_frame[\"bin_str\"] = analysis_frame[\"collatz\"].apply(com.to_binary)\n",
    "analysis_frame[\"bin_len\"] = analysis_frame[\"bin_str\"].apply(len)\n",
    "analysis_frame[\"log2_xi\"] = analysis_frame[\"collatz\"].apply(log2)\n",
    "\n",
    "prev_bin_len = list(analysis_frame[:-1][\"bin_len\"])\n",
    "prev_bin_len.insert(0, prev_bin_len[0])\n",
    "analysis_frame[\"bin_diff\"] = analysis_frame[\"bin_len\"] - pd.Series(prev_bin_len)\n",
    "\n",
    "# Print data\n",
    "print_frame = analysis_frame[[\n",
    "    \"v_1\", \"collatz\", \"odd\", \"bin_len\", \"bin_str\", \"log2_xi\", \"bin_diff\"]]\n",
    "\n",
    "print_frame.columns = [\n",
    "    \"v_1\", \"x_i\", \"odd\", \"bin_len\", \"bin_str\", \"log2_xi\", \"bin_diff\"]\n",
    "\n",
    "print(\"Start value:\", START_VALUE, \n",
    "      \" K:\", K_FACTOR, \n",
    "      \"\\n\")\n",
    "\n",
    "if PRINT_TABLE:\n",
    "    print(print_frame.to_string(index=False), \"\\n\")\n"
   ],
   "metadata": {
    "collapsed": false,
    "pycharm": {
     "name": "#%%\n",
     "is_executing": false
    }
   }
  },
  {
   "cell_type": "code",
   "execution_count": 6,
   "outputs": [
    {
     "data": {
      "text/plain": "<Figure size 432x288 with 1 Axes>",
      "image/png": "[encoded data removed]"
     },
     "metadata": {
      "needs_background": "light"
     },
     "output_type": "display_data"
    },
    {
     "data": {
      "text/plain": "<Figure size 432x288 with 1 Axes>",
      "image/png": "[encoded data removed]"
     },
     "metadata": {
      "needs_background": "light"
     },
     "output_type": "display_data"
    }
   ],
   "source": [
    "plt.figure()\n",
    "plt.title(\"Bin length\")\n",
    "plt.plot(analysis_frame[\"bin_len\"], \"-\")\n",
    "\n",
    "plt.figure()\n",
    "plt.title(\"Bin diff\")\n",
    "plt.bar(analysis_frame.index, analysis_frame[\"bin_diff\"])\n",
    "\n",
    "plt.show()"
   ],
   "metadata": {
    "collapsed": false,
    "pycharm": {
     "name": "#%%\n",
     "is_executing": false
    }
   }
  }
 ],
 "metadata": {
  "kernelspec": {
   "name": "collatz",
   "language": "python",
   "display_name": "collatz"
  },
  "language_info": {
   "codemirror_mode": {
    "name": "ipython",
    "version": 2
   },
   "file_extension": ".py",
   "mimetype": "text/x-python",
   "name": "python",
   "nbconvert_exporter": "python",
   "pygments_lexer": "ipython2",
   "version": "2.7.6"
  },
  "pycharm": {
   "stem_cell": {
    "cell_type": "raw",
    "source": [],
    "metadata": {
     "collapsed": false
    }
   }
  }
 },
 "nbformat": 4,
 "nbformat_minor": 0
}