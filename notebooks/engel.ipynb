{
 "cells": [
  {
   "cell_type": "markdown",
   "metadata": {
    "collapsed": true,
    "pycharm": {
     "name": "#%% md\n"
    }
   },
   "source": [
    "## Collatz Engel notebook"
   ]
  },
  {
   "cell_type": "code",
   "execution_count": 7,
   "outputs": [
    {
     "name": "stdout",
     "output_type": "stream",
     "text": [
      "Start value: 33  K: 3 \n",
      "\n",
      "  n  k  v_1   a  a_max  a_1   b_cycle   b_engel\n",
      "  1  3   33   2      7    2  1.333333  1.010101\n",
      "  2  3   33   4      9    3  1.777778  1.037037\n",
      "  3  3   33   5     10    3  1.185185  1.054994\n",
      "  4  3   33   7     12    4  1.580247  1.123831\n",
      "  5  3   33   8     13    4  1.053498  1.139793\n",
      "  6  3   33  10     15    5  1.404664  1.290768\n",
      "  7  3   33  12     17    6  1.872885  1.599812\n",
      "  8  3   33  13     18    6  1.248590  1.618730\n",
      "  9  3   33  15     20    7  1.664787  2.252582\n",
      " 10  3   33  16     21    7  1.109858  2.269398 \n",
      "\n"
     ]
    }
   ],
   "source": [
    "\"\"\"\n",
    "This notebook analyses betas of cycles with an experimental formula, based on\n",
    "the Engel expansion.\n",
    "\"\"\"\n",
    "\n",
    "# Fix possible import problems\n",
    "import sys\n",
    "sys.path.append(\"..\")\n",
    "\n",
    "# Imports\n",
    "from math import log2\n",
    "import matplotlib.pyplot as plt\n",
    "import pandas as pd\n",
    "\n",
    "\n",
    "# Configuration\n",
    "MAX_N = 10\n",
    "K_FACTOR = 3\n",
    "START_VALUE = 33\n",
    "\n",
    "pd.set_option('display.expand_frame_repr', False)\n",
    "pd.set_option('display.max_rows', 10000)\n",
    "pd.set_option('display.expand_frame_repr', False)\n",
    "\n",
    "# Generate data\n",
    "n = pd.Series(range(1, MAX_N + 1))\n",
    "\n",
    "analysis_frame = pd.DataFrame({\n",
    "    \"n\": n,\n",
    "    \"k\": K_FACTOR,\n",
    "    \"v_1\": START_VALUE\n",
    "})\n",
    "\n",
    "analysis_frame[\"alpha\"] = \\\n",
    "    (analysis_frame[\"n\"] * log2(K_FACTOR)).astype('int64') + 1\n",
    "\n",
    "analysis_frame[\"alpha_max\"] = analysis_frame[\"n\"] * log2(K_FACTOR) + log2(START_VALUE)\n",
    "analysis_frame[\"alpha_max\"] = analysis_frame[\"alpha_max\"].astype('int64') + 1\n",
    "\n",
    "analysis_frame[\"alpha_1\"] = analysis_frame[\"alpha\"] - analysis_frame[\"n\"] + 1\n",
    "\n",
    "analysis_frame[\"beta_log_cycle\"] = \\\n",
    "    (analysis_frame[\"n\"] * log2(K_FACTOR)).astype('int64') + 1 - \\\n",
    "    analysis_frame[\"n\"] * log2(K_FACTOR)\n",
    "\n",
    "analysis_frame[\"beta_cycle\"] = 2**analysis_frame[\"beta_log_cycle\"]\n",
    "analysis_frame[\"beta_engel\"] = \\\n",
    "    (1 + 2**analysis_frame[\"alpha_1\"]) / (K_FACTOR * START_VALUE) - \\\n",
    "    ((2**(analysis_frame[\"alpha_1\"] - 1)) / START_VALUE) * ((2/3)**analysis_frame[\"n\"]) + 1\n",
    "\n",
    "# Print results\n",
    "print_frame = analysis_frame[[\n",
    "    \"n\", \"k\",\"v_1\",\n",
    "    \"alpha\", \"alpha_max\", \"alpha_1\",\n",
    "    \"beta_cycle\", \"beta_engel\"\n",
    "]]\n",
    "\n",
    "print_frame.columns = [\n",
    "    \"n\", \"k\",\"v_1\",\n",
    "    \"a\", \"a_max\", \"a_1\",\n",
    "    \"b_cycle\", \"b_engel\"\n",
    "]\n",
    "\n",
    "print(\"Start value:\", START_VALUE, \" K:\", K_FACTOR,\n",
    "      \"\\n\")\n",
    "\n",
    "print(print_frame.to_string(index=False), \"\\n\")"
   ],
   "metadata": {
    "collapsed": false,
    "pycharm": {
     "name": "#%%\n"
    }
   }
  },
  {
   "cell_type": "code",
   "execution_count": 8,
   "outputs": [
    {
     "data": {
      "text/plain": "<Figure size 432x288 with 1 Axes>",
      "image/png": "[encoded data removed]"
     },
     "metadata": {
      "needs_background": "light"
     },
     "output_type": "display_data"
    }
   ],
   "source": [
    "# Plot results\n",
    "plt.figure()\n",
    "plt.title(\"Beta cycle vs. beta Engel\")\n",
    "plt.plot(analysis_frame[\"beta_cycle\"], \"-o\", label=\"beta cycle\")\n",
    "plt.plot(analysis_frame[\"beta_engel\"], \"-o\", label='beta engel')\n",
    "plt.legend()\n",
    "\n",
    "plt.show()"
   ],
   "metadata": {
    "collapsed": false,
    "pycharm": {
     "name": "#%%\n"
    }
   }
  }
 ],
 "metadata": {
  "kernelspec": {
   "display_name": "Python 3",
   "language": "python",
   "name": "python3"
  },
  "language_info": {
   "codemirror_mode": {
    "name": "ipython",
    "version": 2
   },
   "file_extension": ".py",
   "mimetype": "text/x-python",
   "name": "python",
   "nbconvert_exporter": "python",
   "pygments_lexer": "ipython2",
   "version": "2.7.6"
  }
 },
 "nbformat": 4,
 "nbformat_minor": 0
}