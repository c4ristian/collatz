{
 "cells": [
  {
   "cell_type": "markdown",
   "source": [
    "Collatz beta notebook"
   ],
   "metadata": {
    "collapsed": false,
    "pycharm": {
     "name": "#%% md\n"
    }
   }
  },
  {
   "cell_type": "code",
   "execution_count": 2,
   "outputs": [
    {
     "name": "stdout",
     "text": [
      "x1: 99999  K: 3  Max(b_prod): 0.4234  Min(b_prod_diff): 1.3955  i: 13 \n\n  i        xi         k^i    a  a_pred  a_diff    b_prod  b_prod_hyp  b_prod_diff\n  1     99999    1.584963    1       2       1  0.000005    1.415037       1.4150\n  2    149999    3.169925    2       4       2  0.000008    2.830075       2.8301\n  3    224999    4.754888    3       5       2  0.000010    2.245112       2.2451\n  4    337499    6.339850    4       7       3  0.000012    3.660150       3.6601\n  5    506249    7.924813    6       8       2  0.000013    2.075187       2.0752\n  6    379687    9.509775    7      10       3  0.000014    3.490225       3.4902\n  7    569531   11.094738    8      12       4  0.000015    4.905262       4.9052\n  8    854297   12.679700   10      13       3  0.000015    3.320300       3.3203\n  9    640723   14.264663   11      15       4  0.000016    4.735337       4.7353\n 10    961085   15.849625   14      16       2  0.000016    2.150375       2.1504\n 11    360407   17.434588   15      18       3  0.000018    3.565412       3.5654\n 12    540611   19.019550   16      20       4  0.000019    4.980450       4.9804\n 13    810917   20.604513   20      21       1  0.000019    1.395487       1.3955\n 14    152047   22.189475   21      23       2  0.000022    2.810525       2.8105\n 15    228071   23.774438   22      24       2  0.000025    2.225562       2.2255\n 16    342107   25.359400   23      26       3  0.000026    3.640600       3.6406\n 17    513161   26.944363   25      27       2  0.000027    2.055637       2.0556\n 18    384871   28.529325   26      29       3  0.000028    3.470675       3.4706\n 19    577307   30.114288   27      31       4  0.000029    4.885712       4.8857\n 20    865961   31.699250   29      32       3  0.000030    3.300750       3.3007\n 21    649471   33.284213   30      34       4  0.000030    4.715787       4.7158\n 22    974207   34.869175   31      35       4  0.000031    4.130825       4.1308\n 23   1461311   36.454138   32      37       5  0.000031    5.545862       5.5458\n 24   2191967   38.039100   33      39       6  0.000031    6.960900       6.9609\n 25   3287951   39.624063   34      40       6  0.000031    6.375937       6.3759\n 26   4931927   41.209025   35      42       7  0.000032    7.790975       7.7909\n 27   7397891   42.793988   36      43       7  0.000032    7.206012       7.2060\n 28  11096837   44.378950   40      45       5  0.000032    5.621050       5.6210\n 29   2080657   45.963913   42      46       4  0.000032    4.036087       4.0361\n 30   1560493   47.548875   45      48       3  0.000032    3.451125       3.4511\n 31    585185   49.133838   47      50       3  0.000033    3.866162       3.8661\n 32    438889   50.718800   49      51       2  0.000034    2.281200       2.2812\n 33    329167   52.303763   50      53       3  0.000036    3.696237       3.6962\n 34    493751   53.888725   51      54       3  0.000037    3.111275       3.1112\n 35    740627   55.473688   52      56       4  0.000037    4.526312       4.5263\n 36   1110941   57.058650   55      58       3  0.000038    3.941350       3.9413\n 37    416603   58.643613   56      59       3  0.000039    3.356387       3.3563\n 38    624905   60.228575   58      61       3  0.000040    3.771425       3.7714\n 39    468679   61.813538   59      62       3  0.000041    3.186462       3.1864\n 40    703019   63.398500   60      64       4  0.000041    4.601500       4.6015\n 41   1054529   64.983463   62      65       3  0.000042    3.016537       3.0165\n 42    790897   66.568425   64      67       3  0.000042    3.431575       3.4315\n 43    593173   68.153388   70      69      -1  0.000043   -0.153388      -0.1534\n 44     27805   69.738350   73      70      -3  0.000060   -2.738350      -2.7384\n 45     10427   71.323313   74      72      -2  0.000107   -1.323313      -1.3234\n 46     15641   72.908275   76      73      -3  0.000137   -2.908275      -2.9084\n 47     11731   74.493238   77      75      -2  0.000178   -1.493238      -1.4934\n 48     17597   76.078200   80      77      -3  0.000206   -2.078200      -2.0784\n 49      6599   77.663163   81      78      -3  0.000278   -2.663163      -2.6634\n 50      9899   79.248125   82      80      -2  0.000327   -1.248125      -1.2485\n 51     14849   80.833088   84      81      -3  0.000359   -2.833088      -2.8334\n 52     11137   82.418050   86      83      -3  0.000403   -2.418050      -2.4185\n 53      8353   84.003013   88      85      -3  0.000460   -2.003013      -2.0035\n 54      6265   85.587975   90      86      -4  0.000537   -3.587975      -3.5885\n 55      4699   87.172938   91      88      -3  0.000639   -2.172938      -2.1736\n 56      7049   88.757900   93      89      -4  0.000708   -3.757900      -3.7586\n 57      5287   90.342863   94      91      -3  0.000798   -2.342863      -2.3437\n 58      7931   91.927825   95      92      -3  0.000859   -2.927825      -2.9287\n 59     11897   93.512788   97      94      -3  0.000900   -2.512788      -2.5137\n 60      8923   95.097750   98      96      -2  0.000953   -1.097750      -1.0987\n 61     13385   96.682713  100      97      -3  0.000989   -2.682713      -2.6837\n 62     10039   98.267675  101      99      -2  0.001037   -1.267675      -1.2687\n 63     15059   99.852638  102     100      -2  0.001069   -1.852638      -1.8537\n 64     22589  101.437600  105     102      -3  0.001090   -2.437600      -2.4387\n 65      8471  103.022563  106     104      -2  0.001147   -1.022563      -1.0237\n 66     12707  104.607525  107     105      -2  0.001185   -1.607525      -1.6087\n 67     19061  106.192488  112     107      -5  0.001210   -4.192488      -4.1937\n 68      1787  107.777450  113     108      -5  0.001479   -4.777450      -4.7789\n 69      2681  109.362413  115     110      -5  0.001659   -4.362413      -4.3641\n 70      2011  110.947375  116     111      -5  0.001898   -4.947375      -4.9493\n 71      3017  112.532338  118     113      -5  0.002057   -4.532338      -4.5344\n 72      2263  114.117300  119     115      -4  0.002270   -3.117300      -3.1196\n 73      3395  115.702263  120     116      -4  0.002411   -3.702263      -3.7047\n 74      5093  117.287225  124     118      -6  0.002506   -5.287225      -5.2897\n 75       955  118.872188  125     119      -6  0.003009   -5.872188      -5.8752\n 76      1433  120.457150  127     121      -6  0.003345   -5.457150      -5.4605\n 77      1075  122.042113  128     123      -5  0.003792   -4.042113      -4.0459\n 78      1613  123.627075  131     124      -7  0.004090   -6.627075      -6.6312\n 79       605  125.212038  134     126      -8  0.004885   -7.212038      -7.2169\n 80       227  126.797000  135     127      -8  0.007002   -7.797000      -7.8040\n 81       341  128.381963  145     129     -16  0.008411  -15.381963     -15.3904\n 82         1  129.966925  147     130     -17  0.423449  -16.966925     -17.3904 \n\n"
     ],
     "output_type": "stream"
    }
   ],
   "source": [
    "\"\"\"\n",
    "This notebook analyses the betas of collatz sequences and their relationship\n",
    "to other components. The beta  of an odd collatz number is defined by the \n",
    "following equation: beta = 1 + 1/k*x where x is the odd number. \n",
    "\"\"\"\n",
    "\n",
    "# Imports\n",
    "import random as rnd\n",
    "import matplotlib.pyplot as plt\n",
    "from math import log2\n",
    "import pandas as pd\n",
    "from collatz import commons as com\n",
    "from collatz import generator as gen\n",
    "from collatz import cycles\n",
    "\n",
    "\n",
    "# Helper functions\n",
    "def _predict_alpha(k_factor, cycle_lengths):\n",
    "    result_list = []\n",
    "    for i in cycle_lengths:\n",
    "        result_list.append(cycles.predict_cycle_alpha(k_factor, i))\n",
    "    return result_list\n",
    "\n",
    "\n",
    "# Configuration\n",
    "k = 3\n",
    "max_value = 1001\n",
    "max_iterations = 500\n",
    "start_value = rnd.randint(1, max_value)\n",
    "\n",
    "if start_value % 2 == 0:\n",
    "    start_value = start_value + 1\n",
    "\n",
    "# start_value = int('1001111111111111', 2)\n",
    "start_value = 99999\n",
    "\n",
    "pd.set_option('display.expand_frame_repr', False)\n",
    "pd.set_option('display.max_rows', 10000)\n",
    "pd.set_option('display.expand_frame_repr', False)\n",
    "\n",
    "# Create a collatz sequence and analyse it\n",
    "analysis_frame = gen.generate_collatz_sequence(\n",
    "    start_value=start_value, k=k, max_iterations=max_iterations)\n",
    "\n",
    "# Filter odd values\n",
    "analysis_frame = analysis_frame[analysis_frame[\"odd\"] == 1]\n",
    "analysis_frame = analysis_frame.reset_index(drop=True)\n",
    "\n",
    "# Derive additional fields\n",
    "analysis_frame[\"i\"] = analysis_frame.index + 1\n",
    "analysis_frame[\"log_k^i\"] = log2(k)*analysis_frame[\"i\"]\n",
    "\n",
    "# Calculate alpha\n",
    "analysis_frame[\"alpha\"] = analysis_frame[\"next_collatz\"].apply(com.trailing_zeros)\n",
    "analysis_frame[\"alpha\"] = analysis_frame[\"alpha\"].astype(\"int64\")\n",
    "analysis_frame[\"alpha_sum\"] = analysis_frame[\"alpha\"].cumsum()\n",
    "analysis_frame[\"alpha_pred\"] = _predict_alpha(k, analysis_frame['i'])\n",
    "analysis_frame[\"alpha_diff\"] = analysis_frame[\"alpha_pred\"] - analysis_frame[\"alpha_sum\"]\n",
    "analysis_frame[\"next_alpha_pred\"] = _predict_alpha(k, analysis_frame['i'])\n",
    "\n",
    "# Calculate beta\n",
    "analysis_frame[\"beta\"] = 1 + 1/(k*analysis_frame[\"collatz\"])\n",
    "analysis_frame[\"beta_prod\"] = analysis_frame[\"beta\"].cumprod()\n",
    "analysis_frame[\"beta_log\"] = analysis_frame[\"beta\"].apply(log2)\n",
    "analysis_frame[\"beta_prod_log\"] = analysis_frame[\"beta_prod\"].apply(log2)\n",
    "\n",
    "analysis_frame[\"beta_prod_hyp\"] = \\\n",
    "    analysis_frame[\"alpha_pred\"] - analysis_frame[\"log_k^i\"]  \\\n",
    "    + analysis_frame[\"alpha_diff\"]\n",
    "\n",
    "analysis_frame[\"beta_prod_diff\"] = \\\n",
    "    analysis_frame[\"beta_prod_hyp\"] - analysis_frame[\"beta_prod_log\"]\n",
    "analysis_frame[\"beta_prod_diff\"] = analysis_frame[\"beta_prod_diff\"].round(4)\n",
    "\n",
    "# Get max and min values\n",
    "max_beta_prod_log = round(analysis_frame[\"beta_prod_log\"].max(), 4)\n",
    "beta_diff =  analysis_frame[analysis_frame[\"beta_prod_diff\"] >= 0][\"beta_prod_diff\"]\n",
    "min_beta_diff = None\n",
    "min_i = None\n",
    "\n",
    "if len(beta_diff) > 0:\n",
    "    min_beta_diff = beta_diff.min()\n",
    "    min_i = beta_diff.idxmin() + 1\n",
    "\n",
    "# Print results\n",
    "print_frame = analysis_frame[[\n",
    "    \"i\", \"collatz\", \"log_k^i\", \"alpha_sum\", \"alpha_pred\", \"alpha_diff\",\n",
    "    \"beta_prod_log\", \"beta_prod_hyp\", \"beta_prod_diff\"]]\n",
    "\n",
    "print_frame.columns = [\"i\",\"xi\", \"k^i\", \"a\", \"a_pred\", \"a_diff\",\n",
    "                       \"b_prod\", \"b_prod_hyp\", \"b_prod_diff\"]\n",
    "\n",
    "print(\"x1:\", start_value, \" K:\", k, \n",
    "      \" Max(b_prod):\", max_beta_prod_log, \n",
    "      \" Min(b_prod_diff):\", min_beta_diff,\n",
    "      \" i:\", min_i,\n",
    "      \"\\n\")\n",
    "\n",
    "print(print_frame.to_string(index=False), \"\\n\")"
   ],
   "metadata": {
    "collapsed": false,
    "pycharm": {
     "name": "#%%\n",
     "is_executing": false
    }
   }
  },
  {
   "cell_type": "code",
   "execution_count": 3,
   "outputs": [
    {
     "data": {
      "text/plain": "<Figure size 432x288 with 1 Axes>",
      "image/png": "[encoded data removed]"
     },
     "metadata": {
      "needs_background": "light"
     },
     "output_type": "display_data"
    },
    {
     "data": {
      "text/plain": "<Figure size 432x288 with 1 Axes>",
      "image/png": "[encoded data removed]"
     },
     "metadata": {
      "needs_background": "light"
     },
     "output_type": "display_data"
    }
   ],
   "source": [
    "# Plot results\n",
    "plt.figure()\n",
    "plt.title(\"Log beta prod\")\n",
    "plt.plot(analysis_frame[\"beta_prod_log\"], \"-o\", label='log beta prod')\n",
    "\n",
    "plt.figure()\n",
    "plt.title(\"Log beta prod diff\")\n",
    "plt.plot(analysis_frame[\"beta_prod_diff\"], \"-o\", label='diff')\n",
    "\n",
    "plt.show()"
   ],
   "metadata": {
    "collapsed": false,
    "pycharm": {
     "name": "#%%\n",
     "is_executing": false
    }
   }
  }
 ],
 "metadata": {
  "kernelspec": {
   "display_name": "Python 3",
   "language": "python",
   "name": "python3"
  },
  "language_info": {
   "codemirror_mode": {
    "name": "ipython",
    "version": 2
   },
   "file_extension": ".py",
   "mimetype": "text/x-python",
   "name": "python",
   "nbconvert_exporter": "python",
   "pygments_lexer": "ipython2",
   "version": "2.7.6"
  },
  "pycharm": {
   "stem_cell": {
    "cell_type": "raw",
    "source": [],
    "metadata": {
     "collapsed": false
    }
   }
  }
 },
 "nbformat": 4,
 "nbformat_minor": 0
}