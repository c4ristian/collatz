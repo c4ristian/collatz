{
 "cells": [
  {
   "cell_type": "markdown",
   "source": [
    "## Collatz beta notebook"
   ],
   "metadata": {
    "collapsed": false,
    "pycharm": {
     "name": "#%% md\n"
    }
   }
  },
  {
   "cell_type": "code",
   "execution_count": 1,
   "outputs": [
    {
     "name": "stdout",
     "text": [
      "x1: 339  K: 3  Max(b_prod): 0.6505  Min(b_prod_diff): 0.2402  i: 3 \n\n  i    xi        k^i   a  a_pred  a_diff    b_prod  b_prod_hyp  b_prod_diff\n  1   339   1.584963   1       2       1  0.001418    1.415037       1.4136\n  2   509   3.169925   4       4       0  0.002362    0.830075       0.8277\n  3   191   4.754888   5       5       0  0.004878    0.245112       0.2402\n  4   287   6.339850   6       7       1  0.006553    1.660150       1.6536\n  5   431   7.924813   7       8       1  0.007668    1.075187       1.0675\n  6   647   9.509775   8      10       2  0.008411    2.490225       2.4818\n  7   971  11.094738   9      12       3  0.008906    3.905262       3.8964\n  8  1457  12.679700  11      13       2  0.009236    2.320300       2.3111\n  9  1093  14.264663  15      15       0  0.009676    0.735337       0.7257\n 10   205  15.849625  18      16      -2  0.012020   -1.849625      -1.8616\n 11    77  17.434588  21      18      -3  0.018252   -2.434588      -2.4528\n 12    29  19.019550  24      20      -4  0.034740   -3.019550      -3.0543\n 13    11  20.604513  25      21      -4  0.077809   -3.604513      -3.6823\n 14    17  22.189475  27      23      -4  0.105823   -3.189475      -3.2953\n 15    13  23.774438  30      24      -6  0.142349   -5.774438      -5.9168\n 16     5  25.359400  34      26      -8  0.235459   -7.359400      -7.5949\n 17     1  26.944363  36      27      -9  0.650496   -8.944363      -9.5949 \n\n"
     ],
     "output_type": "stream"
    }
   ],
   "source": [
    "\"\"\"\n",
    "This notebook analyses the betas of collatz sequences and their relationship\n",
    "to other components. The beta  of an odd collatz number is defined by the \n",
    "following equation: beta = 1 + 1/k*x where x is the odd number. \n",
    "\"\"\"\n",
    "\n",
    "# Fix possible import problems\n",
    "import sys\n",
    "sys.path.append(\"..\")\n",
    "\n",
    "# Imports\n",
    "import random as rnd\n",
    "import matplotlib.pyplot as plt\n",
    "from math import log2\n",
    "import pandas as pd\n",
    "from collatz import commons as com\n",
    "from collatz import generator as gen\n",
    "from collatz import cycles\n",
    "\n",
    "\n",
    "# Helper functions\n",
    "def _predict_alpha(k_factor, cycle_lengths):\n",
    "    result_list = []\n",
    "    for i in cycle_lengths:\n",
    "        result_list.append(cycles.predict_cycle_alpha(k_factor, i))\n",
    "    return result_list\n",
    "\n",
    "\n",
    "# Configuration\n",
    "k = 3\n",
    "max_value = 1001\n",
    "max_iterations = 500\n",
    "start_value = rnd.randint(1, max_value)\n",
    "\n",
    "if start_value % 2 == 0:\n",
    "    start_value = start_value + 1\n",
    "\n",
    "pd.set_option('display.expand_frame_repr', False)\n",
    "pd.set_option('display.max_rows', 10000)\n",
    "pd.set_option('display.expand_frame_repr', False)\n",
    "\n",
    "# Create a collatz sequence and analyse it\n",
    "analysis_frame = gen.generate_odd_collatz_sequence(\n",
    "    start_value=start_value, k=k, max_iterations=max_iterations)\n",
    "\n",
    "# Filter odd values\n",
    "analysis_frame = analysis_frame[analysis_frame[\"odd\"] == 1]\n",
    "analysis_frame = analysis_frame.reset_index(drop=True)\n",
    "\n",
    "# Derive additional fields\n",
    "analysis_frame[\"i\"] = analysis_frame.index + 1\n",
    "analysis_frame[\"log_k^i\"] = log2(k)*analysis_frame[\"i\"]\n",
    "\n",
    "# Calculate alpha\n",
    "analysis_frame[\"alpha\"] = analysis_frame[\"next_collatz\"].apply(com.trailing_zeros)\n",
    "analysis_frame[\"alpha\"] = analysis_frame[\"alpha\"].astype(\"int64\")\n",
    "analysis_frame[\"alpha_sum\"] = analysis_frame[\"alpha\"].cumsum()\n",
    "analysis_frame[\"alpha_pred\"] = _predict_alpha(k, analysis_frame['i'])\n",
    "analysis_frame[\"alpha_diff\"] = analysis_frame[\"alpha_pred\"] - analysis_frame[\"alpha_sum\"]\n",
    "analysis_frame[\"next_alpha_pred\"] = _predict_alpha(k, analysis_frame['i'])\n",
    "\n",
    "# Calculate beta\n",
    "analysis_frame[\"beta\"] = 1 + 1/(k*analysis_frame[\"collatz\"])\n",
    "analysis_frame[\"beta_prod\"] = analysis_frame[\"beta\"].cumprod()\n",
    "analysis_frame[\"beta_log\"] = analysis_frame[\"beta\"].apply(log2)\n",
    "analysis_frame[\"beta_prod_log\"] = analysis_frame[\"beta_prod\"].apply(log2)\n",
    "\n",
    "analysis_frame[\"beta_prod_hyp\"] = \\\n",
    "    analysis_frame[\"alpha_pred\"] - analysis_frame[\"log_k^i\"]  \\\n",
    "    + analysis_frame[\"alpha_diff\"]\n",
    "\n",
    "analysis_frame[\"beta_prod_diff\"] = \\\n",
    "    analysis_frame[\"beta_prod_hyp\"] - analysis_frame[\"beta_prod_log\"]\n",
    "analysis_frame[\"beta_prod_diff\"] = analysis_frame[\"beta_prod_diff\"].round(4)\n",
    "\n",
    "# Get max and min values\n",
    "max_beta_prod_log = round(analysis_frame[\"beta_prod_log\"].max(), 4)\n",
    "beta_diff =  analysis_frame[analysis_frame[\"beta_prod_diff\"] >= 0][\"beta_prod_diff\"]\n",
    "min_beta_diff = None\n",
    "min_i = None\n",
    "\n",
    "if len(beta_diff) > 0:\n",
    "    min_beta_diff = beta_diff.min()\n",
    "    min_i = beta_diff.idxmin() + 1\n",
    "\n",
    "# Print results\n",
    "print_frame = analysis_frame[[\n",
    "    \"i\", \"collatz\", \"log_k^i\", \"alpha_sum\", \"alpha_pred\", \"alpha_diff\",\n",
    "    \"beta_prod_log\", \"beta_prod_hyp\", \"beta_prod_diff\"]]\n",
    "\n",
    "print_frame.columns = [\"i\",\"xi\", \"k^i\", \"a\", \"a_pred\", \"a_diff\",\n",
    "                       \"b_prod\", \"b_prod_hyp\", \"b_prod_diff\"]\n",
    "\n",
    "print(\"x1:\", start_value, \" K:\", k, \n",
    "      \" Max(b_prod):\", max_beta_prod_log, \n",
    "      \" Min(b_prod_diff):\", min_beta_diff,\n",
    "      \" i:\", min_i,\n",
    "      \"\\n\")\n",
    "\n",
    "print(print_frame.to_string(index=False), \"\\n\")"
   ],
   "metadata": {
    "collapsed": false,
    "pycharm": {
     "name": "#%%\n",
     "is_executing": false
    }
   }
  },
  {
   "cell_type": "code",
   "execution_count": 2,
   "outputs": [
    {
     "data": {
      "text/plain": "<Figure size 432x288 with 1 Axes>",
      "image/png": "[encoded data removed]"
     },
     "metadata": {
      "needs_background": "light"
     },
     "output_type": "display_data"
    },
    {
     "data": {
      "text/plain": "<Figure size 432x288 with 1 Axes>",
      "image/png": "[encoded data removed]"
     },
     "metadata": {
      "needs_background": "light"
     },
     "output_type": "display_data"
    }
   ],
   "source": [
    "# Plot results\n",
    "plt.figure()\n",
    "plt.title(\"Log beta prod\")\n",
    "plt.plot(analysis_frame[\"beta_prod_log\"], \"-o\", label='log beta prod')\n",
    "\n",
    "plt.figure()\n",
    "plt.title(\"Log beta prod diff\")\n",
    "plt.plot(analysis_frame[\"beta_prod_diff\"], \"-o\", label='diff')\n",
    "\n",
    "plt.show()"
   ],
   "metadata": {
    "collapsed": false,
    "pycharm": {
     "name": "#%%\n",
     "is_executing": false
    }
   }
  }
 ],
 "metadata": {
  "kernelspec": {
   "name": "collatz",
   "language": "python",
   "display_name": "collatz"
  },
  "language_info": {
   "codemirror_mode": {
    "name": "ipython",
    "version": 2
   },
   "file_extension": ".py",
   "mimetype": "text/x-python",
   "name": "python",
   "nbconvert_exporter": "python",
   "pygments_lexer": "ipython2",
   "version": "2.7.6"
  },
  "pycharm": {
   "stem_cell": {
    "cell_type": "raw",
    "source": [],
    "metadata": {
     "collapsed": false
    }
   }
  }
 },
 "nbformat": 4,
 "nbformat_minor": 0
}