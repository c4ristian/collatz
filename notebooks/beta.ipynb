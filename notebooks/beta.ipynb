{
 "cells": [
  {
   "cell_type": "markdown",
   "source": [
    "Collatz beta notebook"
   ],
   "metadata": {
    "collapsed": false,
    "pycharm": {
     "name": "#%% md\n"
    }
   }
  },
  {
   "cell_type": "code",
   "execution_count": 9,
   "outputs": [
    {
     "name": "stdout",
     "text": [
      "x1: 435  K: 3  Max(b_prod): 0.5554  Min(b_prod_diff): 0.8282  i: 2 \n\n i   xi        k^i   a  a_pred  a_diff    b_prod  b_prod_hyp  b_prod_diff\n 1  435   1.584963   1       2       1  0.001105    1.415037       1.4139\n 2  653   3.169925   4       4       0  0.001841    0.830075       0.8282\n 3  245   4.754888   9       5      -4  0.003803   -3.754888      -3.7587\n 4   23   6.339850  10       7      -3  0.024561   -2.339850      -2.3644\n 5   35   7.924813  11       8      -3  0.038236   -2.924813      -2.9630\n 6   53   9.509775  16      10      -6  0.047281   -5.509775      -5.5571\n 7    5  11.094738  20      12      -8  0.140391   -7.094738      -7.2351\n 8    1  12.679700  22      13      -9  0.555428   -8.679700      -9.2351 \n\n"
     ],
     "output_type": "stream"
    }
   ],
   "source": [
    "\"\"\"\n",
    "This notebook analyses the betas of collatz sequences and their relationship\n",
    "to other components. The beta  of an odd collatz number is defined by the \n",
    "following equation: beta = 1 + 1/k*x where x is the odd number. \n",
    "\"\"\"\n",
    "\n",
    "# Imports\n",
    "import random as rnd\n",
    "import matplotlib.pyplot as plt\n",
    "from math import log2\n",
    "import pandas as pd\n",
    "from collatz import commons as com\n",
    "from collatz import generator as gen\n",
    "from collatz import cycles\n",
    "\n",
    "\n",
    "# Helper functions\n",
    "def _predict_alpha(k_factor, cycle_lengths):\n",
    "    result_list = []\n",
    "    for i in cycle_lengths:\n",
    "        result_list.append(cycles.predict_cycle_alpha(k_factor, i))\n",
    "    return result_list\n",
    "\n",
    "\n",
    "# Configuration\n",
    "k = 3\n",
    "max_value = 1001\n",
    "max_iterations = 500\n",
    "start_value = rnd.randint(1, max_value)\n",
    "\n",
    "if start_value % 2 == 0:\n",
    "    start_value = start_value + 1\n",
    "\n",
    "pd.set_option('display.expand_frame_repr', False)\n",
    "pd.set_option('display.max_rows', 10000)\n",
    "pd.set_option('display.expand_frame_repr', False)\n",
    "\n",
    "# Create a collatz sequence and analyse it\n",
    "analysis_frame = gen.generate_odd_collatz_sequence(\n",
    "    start_value=start_value, k=k, max_iterations=max_iterations)\n",
    "\n",
    "# Filter odd values\n",
    "analysis_frame = analysis_frame[analysis_frame[\"odd\"] == 1]\n",
    "analysis_frame = analysis_frame.reset_index(drop=True)\n",
    "\n",
    "# Derive additional fields\n",
    "analysis_frame[\"i\"] = analysis_frame.index + 1\n",
    "analysis_frame[\"log_k^i\"] = log2(k)*analysis_frame[\"i\"]\n",
    "\n",
    "# Calculate alpha\n",
    "analysis_frame[\"alpha\"] = analysis_frame[\"next_collatz\"].apply(com.trailing_zeros)\n",
    "analysis_frame[\"alpha\"] = analysis_frame[\"alpha\"].astype(\"int64\")\n",
    "analysis_frame[\"alpha_sum\"] = analysis_frame[\"alpha\"].cumsum()\n",
    "analysis_frame[\"alpha_pred\"] = _predict_alpha(k, analysis_frame['i'])\n",
    "analysis_frame[\"alpha_diff\"] = analysis_frame[\"alpha_pred\"] - analysis_frame[\"alpha_sum\"]\n",
    "analysis_frame[\"next_alpha_pred\"] = _predict_alpha(k, analysis_frame['i'])\n",
    "\n",
    "# Calculate beta\n",
    "analysis_frame[\"beta\"] = 1 + 1/(k*analysis_frame[\"collatz\"])\n",
    "analysis_frame[\"beta_prod\"] = analysis_frame[\"beta\"].cumprod()\n",
    "analysis_frame[\"beta_log\"] = analysis_frame[\"beta\"].apply(log2)\n",
    "analysis_frame[\"beta_prod_log\"] = analysis_frame[\"beta_prod\"].apply(log2)\n",
    "\n",
    "analysis_frame[\"beta_prod_hyp\"] = \\\n",
    "    analysis_frame[\"alpha_pred\"] - analysis_frame[\"log_k^i\"]  \\\n",
    "    + analysis_frame[\"alpha_diff\"]\n",
    "\n",
    "analysis_frame[\"beta_prod_diff\"] = \\\n",
    "    analysis_frame[\"beta_prod_hyp\"] - analysis_frame[\"beta_prod_log\"]\n",
    "analysis_frame[\"beta_prod_diff\"] = analysis_frame[\"beta_prod_diff\"].round(4)\n",
    "\n",
    "# Get max and min values\n",
    "max_beta_prod_log = round(analysis_frame[\"beta_prod_log\"].max(), 4)\n",
    "beta_diff =  analysis_frame[analysis_frame[\"beta_prod_diff\"] >= 0][\"beta_prod_diff\"]\n",
    "min_beta_diff = None\n",
    "min_i = None\n",
    "\n",
    "if len(beta_diff) > 0:\n",
    "    min_beta_diff = beta_diff.min()\n",
    "    min_i = beta_diff.idxmin() + 1\n",
    "\n",
    "# Print results\n",
    "print_frame = analysis_frame[[\n",
    "    \"i\", \"collatz\", \"log_k^i\", \"alpha_sum\", \"alpha_pred\", \"alpha_diff\",\n",
    "    \"beta_prod_log\", \"beta_prod_hyp\", \"beta_prod_diff\"]]\n",
    "\n",
    "print_frame.columns = [\"i\",\"xi\", \"k^i\", \"a\", \"a_pred\", \"a_diff\",\n",
    "                       \"b_prod\", \"b_prod_hyp\", \"b_prod_diff\"]\n",
    "\n",
    "print(\"x1:\", start_value, \" K:\", k, \n",
    "      \" Max(b_prod):\", max_beta_prod_log, \n",
    "      \" Min(b_prod_diff):\", min_beta_diff,\n",
    "      \" i:\", min_i,\n",
    "      \"\\n\")\n",
    "\n",
    "print(print_frame.to_string(index=False), \"\\n\")"
   ],
   "metadata": {
    "collapsed": false,
    "pycharm": {
     "name": "#%%\n",
     "is_executing": false
    }
   }
  },
  {
   "cell_type": "code",
   "execution_count": 10,
   "outputs": [
    {
     "data": {
      "text/plain": "<Figure size 432x288 with 1 Axes>",
      "image/png": "[encoded data removed]"
     },
     "metadata": {
      "needs_background": "light"
     },
     "output_type": "display_data"
    },
    {
     "data": {
      "text/plain": "<Figure size 432x288 with 1 Axes>",
      "image/png": "[encoded data removed]"
     },
     "metadata": {
      "needs_background": "light"
     },
     "output_type": "display_data"
    }
   ],
   "source": [
    "# Plot results\n",
    "plt.figure()\n",
    "plt.title(\"Log beta prod\")\n",
    "plt.plot(analysis_frame[\"beta_prod_log\"], \"-o\", label='log beta prod')\n",
    "\n",
    "plt.figure()\n",
    "plt.title(\"Log beta prod diff\")\n",
    "plt.plot(analysis_frame[\"beta_prod_diff\"], \"-o\", label='diff')\n",
    "\n",
    "plt.show()"
   ],
   "metadata": {
    "collapsed": false,
    "pycharm": {
     "name": "#%%\n",
     "is_executing": false
    }
   }
  }
 ],
 "metadata": {
  "kernelspec": {
   "display_name": "Python 3",
   "language": "python",
   "name": "python3"
  },
  "language_info": {
   "codemirror_mode": {
    "name": "ipython",
    "version": 2
   },
   "file_extension": ".py",
   "mimetype": "text/x-python",
   "name": "python",
   "nbconvert_exporter": "python",
   "pygments_lexer": "ipython2",
   "version": "2.7.6"
  },
  "pycharm": {
   "stem_cell": {
    "cell_type": "raw",
    "source": [],
    "metadata": {
     "collapsed": false
    }
   }
  }
 },
 "nbformat": 4,
 "nbformat_minor": 0
}