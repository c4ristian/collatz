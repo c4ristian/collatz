{
 "cells": [
  {
   "cell_type": "markdown",
   "metadata": {
    "collapsed": true,
    "pycharm": {
     "name": "#%% md\n"
    }
   },
   "source": [
    "# Next learner\n",
    "\n",
    "This notebook trains a machine learning model that predicts the next number of a\n",
    "Collatz sequence"
   ]
  },
  {
   "cell_type": "markdown",
   "source": [
    "## Meta data"
   ],
   "metadata": {
    "collapsed": false
   }
  },
  {
   "cell_type": "code",
   "execution_count": 42,
   "outputs": [
    {
     "name": "stdout",
     "output_type": "stream",
     "text": [
      "K: 3\n",
      "Collatz sequences in sample: 2000 \n",
      "\n",
      "Size training set:  83475\n",
      "Size test set:  35776\n"
     ]
    }
   ],
   "source": [
    "\"\"\"\n",
    "This notebook trains a machine learning model to predict the next number of a\n",
    "Collatz sequence. It builds on a sample of sequences,\n",
    "stored in the csv file: data/basic_sequences.csv. The file can be generated\n",
    "by executing the script run_basic_export.py.\n",
    "\"\"\"\n",
    "\n",
    "# Imports\n",
    "# Fix possible import problems\n",
    "import sys\n",
    "sys.path.append(\"../..\")\n",
    "\n",
    "from pathlib import Path\n",
    "import matplotlib.pyplot as plt\n",
    "import pandas as pd\n",
    "from sklearn import linear_model, tree\n",
    "from sklearn.model_selection import train_test_split\n",
    "\n",
    "\n",
    "# Configuration\n",
    "DATA_PATH = Path.cwd().parent.parent.as_posix() + \"/data/\"\n",
    "CSV_PATH = DATA_PATH + \"basic_sequences.csv\"\n",
    "\n",
    "pd.set_option('display.expand_frame_repr', False)\n",
    "pd.set_option('display.max_rows', 10000)\n",
    "pd.set_option('display.expand_frame_repr', False)\n",
    "\n",
    "# Load data from csv\n",
    "K_FACTOR = 3\n",
    "analysis_frame = pd.read_csv(\n",
    "    CSV_PATH, dtype={\"x_i\": object, \"x_i+\" : object})\n",
    "\n",
    "# Filter data set\n",
    "analysis_frame = analysis_frame[analysis_frame[\"k\"] == K_FACTOR]\n",
    "sequence_count = int(analysis_frame[\"sequence_id\"].nunique())\n",
    "\n",
    "print(\"K:\", K_FACTOR)\n",
    "print(\"Collatz sequences in sample:\", sequence_count, \"\\n\")\n",
    "\n",
    "# Split Training and Test set\n",
    "training_frame, test_frame = train_test_split(analysis_frame, test_size=0.3)\n",
    "\n",
    "print(\"Size training set: \", len(training_frame))\n",
    "print(\"Size test set: \", len(test_frame))\n"
   ],
   "metadata": {
    "collapsed": false,
    "pycharm": {
     "name": "#%%\n"
    }
   }
  },
  {
   "cell_type": "markdown",
   "source": [
    "## Predict next Collatz number"
   ],
   "metadata": {
    "collapsed": false
   }
  },
  {
   "cell_type": "code",
   "execution_count": 43,
   "outputs": [
    {
     "data": {
      "text/plain": "<Figure size 432x288 with 1 Axes>",
      "image/png": "[encoded data removed]"
     },
     "metadata": {
      "needs_background": "light"
     },
     "output_type": "display_data"
    },
    {
     "name": "stdout",
     "output_type": "stream",
     "text": [
      "Linear Model\n",
      "Intercept: -0.9872198141503166\n",
      "Features: ['x_i_log2', 'x_i_odd']\n",
      "Coeff: [0.99850287 2.59287413]\n",
      "R^2: 0.9999877189073343\n"
     ]
    }
   ],
   "source": [
    "# Features\n",
    "next_log_target = \"x_i+_log2\"\n",
    "next_log_features = [\"x_i_log2\", \"x_i_odd\"]\n",
    "\n",
    "# Create Training Set\n",
    "next_log_training_target = training_frame[next_log_target]\n",
    "next_log_training_features = training_frame[next_log_features]\n",
    "\n",
    "# Create Test set\n",
    "next_log_test_target = test_frame[next_log_target]\n",
    "next_log_test_features = test_frame[next_log_features]\n",
    "\n",
    "# Train Linear Model\n",
    "next_log_regression = linear_model.LinearRegression()\n",
    "next_log_regression.fit(next_log_training_features, next_log_training_target)\n",
    "\n",
    "# Test Linear Model\n",
    "next_log_predicted = next_log_regression.predict(next_log_test_features)\n",
    "\n",
    "plt.figure()\n",
    "plt.title(\"Next log vs. Next log predicted\")\n",
    "plt.plot(next_log_predicted, next_log_test_target,  \"o\")\n",
    "plt.show()\n",
    "\n",
    "print(\"Linear Model\")\n",
    "print(\"Intercept:\", next_log_regression.intercept_)\n",
    "print(\"Features:\", next_log_features)\n",
    "print(\"Coeff:\", next_log_regression.coef_)\n",
    "print(\"R^2:\", next_log_regression.score(\n",
    "    next_log_training_features, next_log_training_target))"
   ],
   "metadata": {
    "collapsed": false,
    "pycharm": {
     "name": "#%%\n"
    }
   }
  }
 ],
 "metadata": {
  "kernelspec": {
   "name": "collatz",
   "language": "python",
   "display_name": "collatz"
  },
  "language_info": {
   "codemirror_mode": {
    "name": "ipython",
    "version": 2
   },
   "file_extension": ".py",
   "mimetype": "text/x-python",
   "name": "python",
   "nbconvert_exporter": "python",
   "pygments_lexer": "ipython2",
   "version": "2.7.6"
  }
 },
 "nbformat": 4,
 "nbformat_minor": 0
}