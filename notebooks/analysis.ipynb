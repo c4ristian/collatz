{
 "cells": [
  {
   "cell_type": "markdown",
   "metadata": {
    "collapsed": true,
    "pycharm": {
     "name": "#%% md\n"
    }
   },
   "source": [
    "## Collatz analysis notebook"
   ]
  },
  {
   "cell_type": "code",
   "execution_count": 3,
   "metadata": {
    "pycharm": {
     "is_executing": false,
     "name": "#%%\n"
    }
   },
   "outputs": [
    {
     "name": "stdout",
     "text": [
      "K: 3 \n\n  n  alpha_cycle  cycle_min_log2  cycle_max_log2  cycle_possible\n  1            2        1.584963        2.000000            True\n  2            4        3.169925        3.736966           False\n  3            5        4.754888        5.415037            True\n  4            7        6.339850        7.067114            True\n  5            8        7.924813        8.704544            True\n  6           10        9.509775       10.332575            True\n  7           12       11.094738       11.954064           False\n  8           13       12.679700       13.570735            True\n  9           15       14.264663       15.183712            True\n 10           16       15.849625       16.793765            True\n 11           18       17.434588       18.401448            True\n 12           20       19.019550       20.007169            True\n 13           21       20.604513       21.611240            True\n 14           23       22.189475       23.213905            True\n 15           24       23.774438       24.815356            True\n"
     ],
     "output_type": "stream"
    }
   ],
   "source": [
    "\"\"\"\n",
    "This notebook uses techniques of mathematical analysis to investigate a function\n",
    "that predicts the alpha (power of two) for a cycle with a specific length\n",
    "for a certain k-factor.\n",
    "\"\"\"\n",
    "\n",
    "# Fix possible import problems\n",
    "import sys\n",
    "sys.path.append(\"..\")\n",
    "\n",
    "# Imports\n",
    "from pathlib import Path\n",
    "from math import log2\n",
    "import matplotlib.pyplot as plt\n",
    "import numpy as np\n",
    "import pandas as pd\n",
    "from collatz import cycles\n",
    "\n",
    "\n",
    "# Helper functions\n",
    "def _predict_cycle_alpha(k_factor, cycle_lengths):\n",
    "    result_list = []\n",
    "    for i in cycle_lengths:\n",
    "        result_list.append(cycles.predict_cycle_alpha(k_factor, i))\n",
    "    return result_list\n",
    "\n",
    "\n",
    "# Configuration\n",
    "k = 3\n",
    "max_value = 15\n",
    "\n",
    "EXPORT_DATA = True\n",
    "DATA_PATH = Path.cwd().parent.as_posix() + \"/data/\"\n",
    "PIC_PATH = DATA_PATH + \"analysis.png\"\n",
    "CSV_PATH = DATA_PATH + \"analysis.csv\"\n",
    "\n",
    "# Analyse the data\n",
    "first_fraction = 1\n",
    "fractions = np.array(range(first_fraction, first_fraction + 2 * max_value, 2))\n",
    "fractions = k + 1/fractions\n",
    "\n",
    "analysis_frame = pd.DataFrame({\"n\": range(1, max_value+1)})\n",
    "analysis_frame['alpha_cycle'] = _predict_cycle_alpha(k, analysis_frame['n'])\n",
    "analysis_frame['2_alpha_cycle'] = 2 ** analysis_frame['alpha_cycle']\n",
    "\n",
    "analysis_frame['cycle_min'] = k ** analysis_frame['n']\n",
    "analysis_frame['cycle_min_log2'] = analysis_frame['cycle_min'].apply(log2)\n",
    "\n",
    "analysis_frame['cycle_max'] = fractions.cumprod()\n",
    "analysis_frame['cycle_max_log2'] = analysis_frame['cycle_max'].apply(log2)\n",
    "\n",
    "analysis_frame['cycle_possible'] = analysis_frame['alpha_cycle'] >= analysis_frame['cycle_min_log2']\n",
    "analysis_frame['cycle_possible'] &= analysis_frame['alpha_cycle'] <= analysis_frame['cycle_max_log2']\n",
    "\n",
    "# Print results\n",
    "print(\"K:\", k, \"\\n\")\n",
    "\n",
    "print_frame = analysis_frame[[\n",
    "    'n', 'alpha_cycle', 'cycle_min_log2', \"cycle_max_log2\", \"cycle_possible\"]]\n",
    "\n",
    "print(print_frame.to_string(index=False))"
   ]
  },
  {
   "cell_type": "code",
   "execution_count": 4,
   "metadata": {
    "pycharm": {
     "is_executing": false,
     "name": "#%%\n"
    }
   },
   "outputs": [
    {
     "data": {
      "text/plain": "<Figure size 432x288 with 1 Axes>",
      "image/png": "[encoded data removed]"
     },
     "metadata": {
      "needs_background": "light"
     },
     "output_type": "display_data"
    }
   ],
   "source": [
    "# Plot results\n",
    "\n",
    "# Predicted alpha vs cycle min and max\n",
    "plt.figure()\n",
    "plt.title(\"Alpha cycle \" + \"k=\" + str(k))\n",
    "plt.plot(analysis_frame[\"alpha_cycle\"], label='alpha cycle')\n",
    "plt.plot(analysis_frame[\"cycle_min_log2\"], label=\"cycle min (log2)\")\n",
    "plt.plot(analysis_frame[\"cycle_max_log2\"], label=\"cycle max (log2)\")\n",
    "plt.legend()\n",
    "\n",
    "# Export results\n",
    "if EXPORT_DATA:\n",
    "    plt.savefig(PIC_PATH)\n",
    "    print_frame.to_csv(CSV_PATH, index=False)\n",
    "\n",
    "plt.show()"
   ]
  }
 ],
 "metadata": {
  "kernelspec": {
   "name": "collatz",
   "language": "python",
   "display_name": "collatz"
  },
  "language_info": {
   "codemirror_mode": {
    "name": "ipython",
    "version": 3
   },
   "file_extension": ".py",
   "mimetype": "text/x-python",
   "name": "python",
   "nbconvert_exporter": "python",
   "pygments_lexer": "ipython3",
   "version": "3.8.2"
  },
  "pycharm": {
   "stem_cell": {
    "cell_type": "raw",
    "source": [],
    "metadata": {
     "collapsed": false
    }
   }
  }
 },
 "nbformat": 4,
 "nbformat_minor": 1
}