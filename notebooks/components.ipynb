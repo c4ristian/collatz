{
 "cells": [
  {
   "cell_type": "markdown",
   "metadata": {
    "collapsed": true,
    "pycharm": {
     "name": "#%% md\n"
    }
   },
   "source": [
    "## Collatz components notebook"
   ]
  },
  {
   "cell_type": "code",
   "execution_count": 9,
   "outputs": [
    {
     "name": "stdout",
     "text": [
      "Start value: 65  K: 3 Beta max:  1.2294   Alphas valid: True \n\n n  v1  vi vi+1  a  a_sum  a_pred  a_max         b    b_prod         s     s_sum\n 1  65  65   49  2      2       2      8  1.005128  1.005128  0.005128  0.005128\n 2  65  49   37  2      4       4     10  1.006803  1.011966  0.006803  0.011931\n 3  65  37    7  4      8       5     11  1.009009  1.021083  0.009009  0.020940\n 4  65   7   11  1      9       7     13  1.047619  1.069706  0.047619  0.068559\n 5  65  11   17  1     10       8     14  1.030303  1.102121  0.030303  0.098862\n 6  65  17   13  2     12      10     16  1.019608  1.123731  0.019608  0.118470\n 7  65  13    5  3     15      12     18  1.025641  1.152545  0.025641  0.144111\n 8  65   5    1  4     19      13     19  1.066667  1.229381  0.066667  0.210778 \n\n"
     ],
     "output_type": "stream"
    }
   ],
   "source": [
    "\"\"\"\n",
    "This notebook analyses core components of collatz \n",
    "sequences and their relationship: \n",
    "a.) k**i \n",
    "b.) beta = 1 + 1/(k*xi)\n",
    "c.) alpha\n",
    "\n",
    "The alphas of the sequence are compared with a predicted alphas values.\n",
    "\"\"\"\n",
    "\n",
    "# Fix possible import problems\n",
    "import sys\n",
    "sys.path.append(\"..\")\n",
    "\n",
    "# Imports\n",
    "import random as rnd\n",
    "from math import log2\n",
    "import pandas as pd\n",
    "from collatz import generator as gen\n",
    "from collatz import commons as com\n",
    "\n",
    "# Configuration\n",
    "MAX_VALUE = 101\n",
    "K_FACTOR = 3\n",
    "MAX_ITERATIONS = 100\n",
    "LOG_MODE = None\n",
    "PRINT_TABLE = True\n",
    "\n",
    "START_VALUE = rnd.randint(1, MAX_VALUE)\n",
    "\n",
    "if START_VALUE % 2 == 0:\n",
    "    START_VALUE = START_VALUE + 1\n",
    "\n",
    "# START_VALUE = 13\n",
    "\n",
    "pd.set_option('display.expand_frame_repr', False)\n",
    "pd.set_option('display.max_rows', 10000)\n",
    "pd.set_option('display.expand_frame_repr', False)\n",
    "\n",
    "# Create a collatz sequence and analyse it\n",
    "analysis_frame = gen.generate_odd_collatz_sequence(\n",
    "    start_value=START_VALUE, k=K_FACTOR, max_iterations=MAX_ITERATIONS)\n",
    "\n",
    "# Drop last row if sequences has ended with 1\n",
    "if len(analysis_frame) > 1 & int(analysis_frame.tail(1)[\"collatz\"]) == 1:\n",
    "    analysis_frame = analysis_frame[:-1]\n",
    "\n",
    "# Derive new fields\n",
    "analysis_frame[\"v1\"] = START_VALUE\n",
    "analysis_frame[\"n\"] = analysis_frame.index + 1\n",
    "analysis_frame[\"kn_log\"] = log2(K_FACTOR) * analysis_frame[\"n\"]\n",
    "analysis_frame[\"beta\"] = 1 + 1 / (K_FACTOR * analysis_frame[\"collatz\"]) \n",
    "analysis_frame[\"beta_prod\"] = analysis_frame[\"beta\"].cumprod()\n",
    "\n",
    "analysis_frame[\"alpha\"] = analysis_frame[\"next_collatz\"].apply(com.trailing_zeros)\n",
    "analysis_frame[\"alpha\"] = analysis_frame[\"alpha\"].astype(\"int64\")\n",
    "analysis_frame[\"alpha_sum\"] = analysis_frame[\"alpha\"].cumsum()\n",
    "analysis_frame[\"alpha_pred\"] = (log2(K_FACTOR) * analysis_frame[\"n\"]).astype('int64') + 1\n",
    "analysis_frame[\"alpha_max\"] = \\\n",
    "    log2(START_VALUE) + (analysis_frame[\"n\"] * log2(K_FACTOR))\n",
    "analysis_frame[\"alpha_max\"] = analysis_frame[\"alpha_max\"].astype('int64') + 1\n",
    "\n",
    "analysis_frame[\"vi_hyp\"] = (analysis_frame[\"v1\"] * K_FACTOR**analysis_frame[\"n\"])\n",
    "analysis_frame[\"vi_hyp\"] = analysis_frame[\"vi_hyp\"] * analysis_frame[\"beta_prod\"]\n",
    "analysis_frame[\"vi_hyp\"] = analysis_frame[\"vi_hyp\"] / 2**analysis_frame[\"alpha_max\"]\n",
    "\n",
    "analysis_frame[\"beta_hyp\"] = analysis_frame[\"alpha_pred\"] - analysis_frame[\"kn_log\"]\n",
    "\n",
    "analysis_frame[\"vi_bin\"] = analysis_frame[\"collatz\"].apply(com.to_binary)\n",
    "analysis_frame[\"vi+1_bin\"] = analysis_frame[\"next_odd\"].apply(com.to_binary)\n",
    "\n",
    "analysis_frame[\"sigma\"] = 1 / (K_FACTOR * analysis_frame[\"collatz\"])\n",
    "analysis_frame[\"sigma_sum\"] = analysis_frame[\"sigma\"].cumsum()\n",
    "\n",
    "# Possible set log mode\n",
    "if LOG_MODE:\n",
    "    analysis_frame[\"v1\"] = analysis_frame[\"v1\"].apply(LOG_MODE)\n",
    "    analysis_frame[\"collatz\"] = analysis_frame[\"collatz\"].apply(LOG_MODE)\n",
    "    analysis_frame[\"next_odd\"] = analysis_frame[\"next_odd\"].apply(LOG_MODE)\n",
    "    analysis_frame[\"beta\"]= analysis_frame[\"beta\"].apply(LOG_MODE)\n",
    "    analysis_frame[\"beta_prod\"]= analysis_frame[\"beta_prod\"].apply(LOG_MODE)\n",
    "    analysis_frame[\"beta_prod\"]= analysis_frame[\"sigma\"].apply(LOG_MODE)\n",
    "    analysis_frame[\"beta_prod\"]= analysis_frame[\"sigma_sum\"].apply(LOG_MODE)\n",
    "else:\n",
    "    analysis_frame[\"beta_hyp\"] = 2**analysis_frame[\"beta_hyp\"]\n",
    "\n",
    "# Validate alpha max & alpha pred\n",
    "final_alpha = analysis_frame[\"alpha_sum\"].max()\n",
    "final_alpha_max = analysis_frame[\"alpha_max\"].max()\n",
    "\n",
    "alpha_max_valid = final_alpha == final_alpha_max\n",
    "\n",
    "# Get max beta\n",
    "beta_max = analysis_frame[\"beta_prod\"].max()\n",
    "\n",
    "# Print results\n",
    "print_frame = analysis_frame[[\n",
    "    \"n\", \"v1\", \"collatz\", \"next_odd\",\n",
    "    \"alpha\", \"alpha_sum\", \"alpha_pred\", \"alpha_max\", \n",
    "    \"beta\", \"beta_prod\", \"sigma\", \"sigma_sum\"]]\n",
    "\n",
    "print_frame.columns = [\n",
    "    \"n\",\"v1\", \"vi\", \"vi+1\",\n",
    "    \"a\", \"a_sum\", \"a_pred\", \"a_max\", \n",
    "    \"b\", \"b_prod\", \"s\", \"s_sum\"]\n",
    "\n",
    "print(\"Start value:\", START_VALUE, \n",
    "      \" K:\", K_FACTOR, \n",
    "      \"Beta max: \", round(beta_max, 4), \" \",\n",
    "       \"Alphas valid:\", alpha_max_valid, \"\\n\")\n",
    "\n",
    "if PRINT_TABLE:\n",
    "    print(print_frame.to_string(index=False), \"\\n\")\n"
   ],
   "metadata": {
    "collapsed": false,
    "pycharm": {
     "name": "#%%\n",
     "is_executing": false
    }
   }
  }
 ],
 "metadata": {
  "kernelspec": {
   "name": "collatz",
   "language": "python",
   "display_name": "collatz"
  },
  "language_info": {
   "codemirror_mode": {
    "name": "ipython",
    "version": 2
   },
   "file_extension": ".py",
   "mimetype": "text/x-python",
   "name": "python",
   "nbconvert_exporter": "python",
   "pygments_lexer": "ipython2",
   "version": "2.7.6"
  },
  "pycharm": {
   "stem_cell": {
    "cell_type": "raw",
    "source": [],
    "metadata": {
     "collapsed": false
    }
   }
  }
 },
 "nbformat": 4,
 "nbformat_minor": 0
}