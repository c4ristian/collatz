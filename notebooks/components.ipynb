{
 "cells": [
  {
   "cell_type": "markdown",
   "metadata": {
    "collapsed": true,
    "pycharm": {
     "name": "#%% md\n"
    }
   },
   "source": [
    "Collatz components notebook"
   ]
  },
  {
   "cell_type": "code",
   "execution_count": 2,
   "outputs": [
    {
     "name": "stdout",
     "text": [
      "Start value: 63  K: 3 Beta max:  1.156   Alphas valid: True \n\n  n  v1    vi  vi+1  a  a_sum  a_pred  a_max         b    b_prod         s     s_sum\n  1  63    63    95  1      1       2      8  1.005291  1.005291  0.005291  0.005291\n  2  63    95   143  1      2       4     10  1.003509  1.008818  0.003509  0.008800\n  3  63   143   215  1      3       5     11  1.002331  1.011170  0.002331  0.011131\n  4  63   215   323  1      4       7     13  1.001550  1.012738  0.001550  0.012681\n  5  63   323   485  1      5       8     14  1.001032  1.013783  0.001032  0.013713\n  6  63   485    91  4      9      10     16  1.000687  1.014480  0.000687  0.014400\n  7  63    91   137  1     10      12     18  1.003663  1.018196  0.003663  0.018063\n  8  63   137   103  2     12      13     19  1.002433  1.020673  0.002433  0.020497\n  9  63   103   155  1     13      15     21  1.003236  1.023976  0.003236  0.023733\n 10  63   155   233  1     14      16     22  1.002151  1.026178  0.002151  0.025883\n 11  63   233   175  2     16      18     24  1.001431  1.027646  0.001431  0.027314\n 12  63   175   263  1     17      20     25  1.001905  1.029604  0.001905  0.029219\n 13  63   263   395  1     18      21     27  1.001267  1.030909  0.001267  0.030486\n 14  63   395   593  1     19      23     29  1.000844  1.031779  0.000844  0.031330\n 15  63   593   445  2     21      24     30  1.000562  1.032359  0.000562  0.031892\n 16  63   445   167  3     24      26     32  1.000749  1.033132  0.000749  0.032641\n 17  63   167   251  1     25      27     33  1.001996  1.035194  0.001996  0.034637\n 18  63   251   377  1     26      29     35  1.001328  1.036569  0.001328  0.035965\n 19  63   377   283  2     28      31     37  1.000884  1.037485  0.000884  0.036849\n 20  63   283   425  1     29      32     38  1.001178  1.038707  0.001178  0.038027\n 21  63   425   319  2     31      34     40  1.000784  1.039522  0.000784  0.038812\n 22  63   319   479  1     32      35     41  1.001045  1.040608  0.001045  0.039856\n 23  63   479   719  1     33      37     43  1.000696  1.041332  0.000696  0.040552\n 24  63   719  1079  1     34      39     45  1.000464  1.041815  0.000464  0.041016\n 25  63  1079  1619  1     35      40     46  1.000309  1.042137  0.000309  0.041325\n 26  63  1619  2429  1     36      42     48  1.000206  1.042351  0.000206  0.041531\n 27  63  2429   911  3     39      43     49  1.000137  1.042495  0.000137  0.041668\n 28  63   911  1367  1     40      45     51  1.000366  1.042876  0.000366  0.042034\n 29  63  1367  2051  1     41      46     52  1.000244  1.043130  0.000244  0.042278\n 30  63  2051  3077  1     42      48     54  1.000163  1.043300  0.000163  0.042440\n 31  63  3077   577  4     46      50     56  1.000108  1.043413  0.000108  0.042549\n 32  63   577   433  2     48      51     57  1.000578  1.044016  0.000578  0.043126\n 33  63   433   325  2     50      53     59  1.000770  1.044819  0.000770  0.043896\n 34  63   325    61  4     54      54     60  1.001026  1.045891  0.001026  0.044922\n 35  63    61    23  3     57      56     62  1.005464  1.051606  0.005464  0.050386\n 36  63    23    35  1     58      58     64  1.014493  1.066847  0.014493  0.064879\n 37  63    35    53  1     59      59     65  1.009524  1.077007  0.009524  0.074403\n 38  63    53     5  5     64      61     67  1.006289  1.083781  0.006289  0.080692\n 39  63     5     1  4     68      62     68  1.066667  1.156033  0.066667  0.147359 \n\n"
     ],
     "output_type": "stream"
    }
   ],
   "source": [
    "\"\"\"\n",
    "This notebook analyses core components of collatz \n",
    "sequences and their relationship: \n",
    "a.) k**i \n",
    "b.) beta = 1 + 1/(k*xi)\n",
    "c.) alpha\n",
    "\n",
    "The alphas of the sequence are compared with a predicted alphas values.\n",
    "\"\"\"\n",
    "\n",
    "# Imports\n",
    "import random as rnd\n",
    "from math import log2\n",
    "import pandas as pd\n",
    "from collatz import generator as gen\n",
    "from collatz import commons as com\n",
    "\n",
    "# Configuration\n",
    "MAX_VALUE = 101\n",
    "K_FACTOR = 3\n",
    "MAX_ITERATIONS = 100\n",
    "LOG_MODE = None\n",
    "PRINT_TABLE = True\n",
    "\n",
    "START_VALUE = rnd.randint(1, MAX_VALUE)\n",
    "\n",
    "if START_VALUE % 2 == 0:\n",
    "    START_VALUE = START_VALUE + 1\n",
    "\n",
    "# START_VALUE = 13\n",
    "\n",
    "pd.set_option('display.expand_frame_repr', False)\n",
    "pd.set_option('display.max_rows', 10000)\n",
    "pd.set_option('display.expand_frame_repr', False)\n",
    "\n",
    "# Create a collatz sequence and analyse it\n",
    "analysis_frame = gen.generate_odd_collatz_sequence(\n",
    "    start_value=START_VALUE, k=K_FACTOR, max_iterations=MAX_ITERATIONS)\n",
    "\n",
    "# Drop last row if sequences has ended with 1\n",
    "if len(analysis_frame) > 1 & int(analysis_frame.tail(1)[\"collatz\"]) == 1:\n",
    "    analysis_frame = analysis_frame[:-1]\n",
    "\n",
    "# Derive new fields\n",
    "analysis_frame[\"v1\"] = START_VALUE\n",
    "analysis_frame[\"n\"] = analysis_frame.index + 1\n",
    "analysis_frame[\"kn_log\"] = log2(K_FACTOR) * analysis_frame[\"n\"]\n",
    "analysis_frame[\"beta\"] = 1 + 1 / (K_FACTOR * analysis_frame[\"collatz\"]) \n",
    "analysis_frame[\"beta_prod\"] = analysis_frame[\"beta\"].cumprod()\n",
    "\n",
    "analysis_frame[\"alpha\"] = analysis_frame[\"next_collatz\"].apply(com.trailing_zeros)\n",
    "analysis_frame[\"alpha\"] = analysis_frame[\"alpha\"].astype(\"int64\")\n",
    "analysis_frame[\"alpha_sum\"] = analysis_frame[\"alpha\"].cumsum()\n",
    "analysis_frame[\"alpha_pred\"] = (log2(K_FACTOR) * analysis_frame[\"n\"]).astype('int64') + 1\n",
    "analysis_frame[\"alpha_max\"] = \\\n",
    "    log2(START_VALUE) + (analysis_frame[\"n\"] * log2(K_FACTOR))\n",
    "analysis_frame[\"alpha_max\"] = analysis_frame[\"alpha_max\"].astype('int64') + 1\n",
    "\n",
    "analysis_frame[\"vi_hyp\"] = (analysis_frame[\"v1\"] * K_FACTOR**analysis_frame[\"n\"])\n",
    "analysis_frame[\"vi_hyp\"] = analysis_frame[\"vi_hyp\"] * analysis_frame[\"beta_prod\"]\n",
    "analysis_frame[\"vi_hyp\"] = analysis_frame[\"vi_hyp\"] / 2**analysis_frame[\"alpha_max\"]\n",
    "\n",
    "analysis_frame[\"beta_hyp\"] = analysis_frame[\"alpha_pred\"] - analysis_frame[\"kn_log\"]\n",
    "\n",
    "analysis_frame[\"vi_bin\"] = analysis_frame[\"collatz\"].apply(com.to_binary)\n",
    "analysis_frame[\"vi+1_bin\"] = analysis_frame[\"next_odd\"].apply(com.to_binary)\n",
    "\n",
    "analysis_frame[\"sigma\"] = 1 / (K_FACTOR * analysis_frame[\"collatz\"])\n",
    "analysis_frame[\"sigma_sum\"] = analysis_frame[\"sigma\"].cumsum()\n",
    "\n",
    "# Possible set log mode\n",
    "if LOG_MODE:\n",
    "    analysis_frame[\"v1\"] = analysis_frame[\"v1\"].apply(LOG_MODE)\n",
    "    analysis_frame[\"collatz\"] = analysis_frame[\"collatz\"].apply(LOG_MODE)\n",
    "    analysis_frame[\"next_odd\"] = analysis_frame[\"next_odd\"].apply(LOG_MODE)\n",
    "    analysis_frame[\"beta\"]= analysis_frame[\"beta\"].apply(LOG_MODE)\n",
    "    analysis_frame[\"beta_prod\"]= analysis_frame[\"beta_prod\"].apply(LOG_MODE)\n",
    "    analysis_frame[\"beta_prod\"]= analysis_frame[\"sigma\"].apply(LOG_MODE)\n",
    "    analysis_frame[\"beta_prod\"]= analysis_frame[\"sigma_sum\"].apply(LOG_MODE)\n",
    "else:\n",
    "    analysis_frame[\"beta_hyp\"] = 2**analysis_frame[\"beta_hyp\"]\n",
    "\n",
    "# Validate alpha max & alpha pred\n",
    "final_alpha = analysis_frame[\"alpha_sum\"].max()\n",
    "final_alpha_max = analysis_frame[\"alpha_max\"].max()\n",
    "\n",
    "alpha_max_valid = final_alpha == final_alpha_max\n",
    "\n",
    "# Get max beta\n",
    "beta_max = analysis_frame[\"beta_prod\"].max()\n",
    "\n",
    "# Print results\n",
    "print_frame = analysis_frame[[\n",
    "    \"n\", \"v1\", \"collatz\", \"next_odd\",\n",
    "    \"alpha\", \"alpha_sum\", \"alpha_pred\", \"alpha_max\", \n",
    "    \"beta\", \"beta_prod\", \"sigma\", \"sigma_sum\"]]\n",
    "\n",
    "print_frame.columns = [\n",
    "    \"n\",\"v1\", \"vi\", \"vi+1\",\n",
    "    \"a\", \"a_sum\", \"a_pred\", \"a_max\", \n",
    "    \"b\", \"b_prod\", \"s\", \"s_sum\"]\n",
    "\n",
    "print(\"Start value:\", START_VALUE, \n",
    "      \" K:\", K_FACTOR, \n",
    "      \"Beta max: \", round(beta_max, 4), \" \",\n",
    "       \"Alphas valid:\", alpha_max_valid, \"\\n\")\n",
    "\n",
    "if PRINT_TABLE:\n",
    "    print(print_frame.to_string(index=False), \"\\n\")\n"
   ],
   "metadata": {
    "collapsed": false,
    "pycharm": {
     "name": "#%%\n",
     "is_executing": false
    }
   }
  }
 ],
 "metadata": {
  "kernelspec": {
   "display_name": "Python 3",
   "language": "python",
   "name": "python3"
  },
  "language_info": {
   "codemirror_mode": {
    "name": "ipython",
    "version": 2
   },
   "file_extension": ".py",
   "mimetype": "text/x-python",
   "name": "python",
   "nbconvert_exporter": "python",
   "pygments_lexer": "ipython2",
   "version": "2.7.6"
  },
  "pycharm": {
   "stem_cell": {
    "cell_type": "raw",
    "source": [],
    "metadata": {
     "collapsed": false
    }
   }
  }
 },
 "nbformat": 4,
 "nbformat_minor": 0
}