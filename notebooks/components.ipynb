{
 "cells": [
  {
   "cell_type": "markdown",
   "metadata": {
    "collapsed": true,
    "pycharm": {
     "name": "#%% md\n"
    }
   },
   "source": [
    "## Collatz components notebook"
   ]
  },
  {
   "cell_type": "code",
   "execution_count": 8,
   "outputs": [
    {
     "name": "stdout",
     "text": [
      "Start value: 67  K: 3  Beta max:  1.1927    Alphas valid: True \n\n n  v_1  v_i  v_i+  a_i   a  a_cycle  a_max       b_i         b       g_i         g\n 1   67   67   101    1   1        2      8  1.004975  1.004975  0.004975  0.004975\n 2   67  101    19    4   5        4     10  1.003300  1.008292  0.003300  0.008275\n 3   67   19    29    1   6        5     11  1.017544  1.025981  0.017544  0.025819\n 4   67   29    11    3   9        7     13  1.011494  1.037774  0.011494  0.037314\n 5   67   11    17    1  10        8     14  1.030303  1.069222  0.030303  0.067617\n 6   67   17    13    2  12       10     16  1.019608  1.090187  0.019608  0.087224\n 7   67   13     5    3  15       12     18  1.025641  1.118140  0.025641  0.112865\n 8   67    5     1    4  19       13     19  1.066667  1.192683  0.066667  0.179532 \n\n"
     ],
     "output_type": "stream"
    }
   ],
   "source": [
    "\"\"\"\n",
    "This notebook analyses core components of collatz \n",
    "sequences and their relationship: \n",
    "a.) k**i \n",
    "b.) beta_i = 1 + 1/(k*xi)\n",
    "c.) alpha_i\n",
    "\n",
    "The alphas of the sequence are compared with a predicted alphas values.\n",
    "\"\"\"\n",
    "\n",
    "# Fix possible import problems\n",
    "import sys\n",
    "sys.path.append(\"..\")\n",
    "\n",
    "# Imports\n",
    "import random as rnd\n",
    "from math import log2\n",
    "import pandas as pd\n",
    "from collatz import generator as gen\n",
    "from collatz import commons as com\n",
    "\n",
    "# Configuration\n",
    "MAX_VALUE = 101\n",
    "K_FACTOR = 3\n",
    "MAX_ITERATIONS = 100\n",
    "LOG_MODE = None\n",
    "PRINT_TABLE = True\n",
    "\n",
    "START_VALUE = rnd.randint(1, MAX_VALUE)\n",
    "\n",
    "if START_VALUE % 2 == 0:\n",
    "    START_VALUE = START_VALUE + 1\n",
    "\n",
    "# START_VALUE = 13\n",
    "\n",
    "pd.set_option('display.expand_frame_repr', False)\n",
    "pd.set_option('display.max_rows', 10000)\n",
    "pd.set_option('display.expand_frame_repr', False)\n",
    "\n",
    "# Generate Collatz sequence\n",
    "analysis_frame = gen.generate_odd_collatz_sequence(\n",
    "    start_value=START_VALUE, k=K_FACTOR, max_iterations=MAX_ITERATIONS)\n",
    "\n",
    "analysis_frame = analysis_frame[:-1]\n",
    "\n",
    "# Derive new fields\n",
    "analysis_frame[\"v_1\"] = START_VALUE\n",
    "analysis_frame[\"n\"] = analysis_frame.index + 1\n",
    "analysis_frame[\"kn_log\"] = log2(K_FACTOR) * analysis_frame[\"n\"]\n",
    "analysis_frame[\"beta_i\"] = 1 + 1 / (K_FACTOR * analysis_frame[\"collatz\"]) \n",
    "analysis_frame[\"beta\"] = analysis_frame[\"beta_i\"].cumprod()\n",
    "\n",
    "analysis_frame[\"alpha_i\"] = analysis_frame[\"next_collatz\"].apply(com.trailing_zeros)\n",
    "analysis_frame[\"alpha_i\"] = analysis_frame[\"alpha_i\"].astype(\"int64\")\n",
    "analysis_frame[\"alpha\"] = analysis_frame[\"alpha_i\"].cumsum()\n",
    "analysis_frame[\"alpha_cycle\"] = (log2(K_FACTOR) * analysis_frame[\"n\"]).astype('int64') + 1\n",
    "analysis_frame[\"alpha_max\"] = \\\n",
    "    log2(START_VALUE) + (analysis_frame[\"n\"] * log2(K_FACTOR))\n",
    "analysis_frame[\"alpha_max\"] = analysis_frame[\"alpha_max\"].astype('int64') + 1\n",
    "\n",
    "analysis_frame[\"v_i_hyp\"] = (analysis_frame[\"v_1\"] * K_FACTOR**analysis_frame[\"n\"])\n",
    "analysis_frame[\"v_i_hyp\"] = analysis_frame[\"v_i_hyp\"] * analysis_frame[\"beta\"]\n",
    "analysis_frame[\"v_i_hyp\"] = analysis_frame[\"v_i_hyp\"] / 2**analysis_frame[\"alpha_max\"]\n",
    "\n",
    "analysis_frame[\"beta_hyp\"] = analysis_frame[\"alpha_cycle\"] - analysis_frame[\"kn_log\"]\n",
    "\n",
    "analysis_frame[\"v_i_bin\"] = analysis_frame[\"collatz\"].apply(com.to_binary)\n",
    "analysis_frame[\"v_i_1_bin\"] = analysis_frame[\"next_odd\"].apply(com.to_binary)\n",
    "\n",
    "analysis_frame[\"gamma_i\"] = 1 / (K_FACTOR * analysis_frame[\"collatz\"])\n",
    "analysis_frame[\"gamma\"] = analysis_frame[\"gamma_i\"].cumsum()\n",
    "\n",
    "# Possible set log mode\n",
    "if LOG_MODE:\n",
    "    analysis_frame[\"v_1\"] = analysis_frame[\"v_1\"].apply(LOG_MODE)\n",
    "    analysis_frame[\"collatz\"] = analysis_frame[\"collatz\"].apply(LOG_MODE)\n",
    "    analysis_frame[\"next_odd\"] = analysis_frame[\"next_odd\"].apply(LOG_MODE)\n",
    "    analysis_frame[\"beta_i\"]= analysis_frame[\"beta_i\"].apply(LOG_MODE)\n",
    "    analysis_frame[\"beta\"]= analysis_frame[\"beta\"].apply(LOG_MODE)\n",
    "    analysis_frame[\"beta\"]= analysis_frame[\"gamma_i\"].apply(LOG_MODE)\n",
    "    analysis_frame[\"beta\"]= analysis_frame[\"gamma\"].apply(LOG_MODE)\n",
    "else:\n",
    "    analysis_frame[\"beta_hyp\"] = 2**analysis_frame[\"beta_hyp\"]\n",
    "\n",
    "# Validate alpha max & alpha pred\n",
    "final_alpha = analysis_frame[\"alpha\"].max()\n",
    "final_alpha_max = analysis_frame[\"alpha_max\"].max()\n",
    "\n",
    "alpha_max_valid = final_alpha == final_alpha_max\n",
    "\n",
    "# Get max beta\n",
    "beta_max = analysis_frame[\"beta\"].max()\n",
    "\n",
    "# Print results\n",
    "print_frame = analysis_frame[[\n",
    "    \"n\", \"v_1\", \"collatz\", \"next_odd\",\n",
    "    \"alpha_i\", \"alpha\", \"alpha_cycle\", \"alpha_max\", \n",
    "    \"beta_i\", \"beta\", \"gamma_i\", \"gamma\"]]\n",
    "\n",
    "print_frame.columns = [\n",
    "    \"n\",\"v_1\", \"v_i\", \"v_i+\",\n",
    "    \"a_i\", \"a\", \"a_cycle\", \"a_max\", \n",
    "    \"b_i\", \"b\", \"g_i\", \"g\"]\n",
    "\n",
    "print(\"Start value:\", START_VALUE, \n",
    "      \" K:\", K_FACTOR, \n",
    "      \" Beta max: \", round(beta_max, 4), \" \",\n",
    "       \" Alphas valid:\", alpha_max_valid, \"\\n\")\n",
    "\n",
    "if PRINT_TABLE:\n",
    "    print(print_frame.to_string(index=False), \"\\n\")\n"
   ],
   "metadata": {
    "collapsed": false,
    "pycharm": {
     "name": "#%%\n",
     "is_executing": false
    }
   }
  }
 ],
 "metadata": {
  "kernelspec": {
   "name": "collatz",
   "language": "python",
   "display_name": "collatz"
  },
  "language_info": {
   "codemirror_mode": {
    "name": "ipython",
    "version": 2
   },
   "file_extension": ".py",
   "mimetype": "text/x-python",
   "name": "python",
   "nbconvert_exporter": "python",
   "pygments_lexer": "ipython2",
   "version": "2.7.6"
  },
  "pycharm": {
   "stem_cell": {
    "cell_type": "raw",
    "source": [],
    "metadata": {
     "collapsed": false
    }
   }
  }
 },
 "nbformat": 4,
 "nbformat_minor": 0
}