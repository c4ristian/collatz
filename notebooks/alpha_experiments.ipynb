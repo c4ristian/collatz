{
 "cells": [
  {
   "cell_type": "markdown",
   "metadata": {
    "pycharm": {
     "name": "#%% md\n"
    }
   },
   "source": [
    "## Collatz alpha experiments"
   ]
  },
  {
   "cell_type": "code",
   "execution_count": null,
   "metadata": {
    "pycharm": {
     "name": "#%%\n"
    }
   },
   "outputs": [],
   "source": [
    "\"\"\"\n",
    "This experimental notebook analyses alphas (number of divisions by two) \n",
    "of randomly generated Collatz sequences.\n",
    "\"\"\"\n",
    "\n",
    "# Fix possible import problems\n",
    "import sys\n",
    "sys.path.append(\"..\")\n",
    "\n",
    "# Imports\n",
    "import random as rnd\n",
    "from math import log2\n",
    "import matplotlib.pyplot as plt\n",
    "import pandas as pd\n",
    "from collatz import generator as gen\n",
    "from collatz import commons as com\n",
    "\n",
    "# Configuration\n",
    "MAX_VALUE = 101\n",
    "K_FACTOR = 3\n",
    "MAX_ITERATIONS = 100\n",
    "LOG_MODE = None\n",
    "PRINT_TABLE = True\n",
    "\n",
    "START_VALUE = rnd.randint(1, MAX_VALUE)\n",
    "\n",
    "if START_VALUE % 2 == 0:\n",
    "    START_VALUE = START_VALUE + 1\n",
    "\n",
    "pd.set_option('display.expand_frame_repr', False)\n",
    "pd.set_option('display.max_rows', 10000)\n",
    "pd.set_option('display.expand_frame_repr', False)\n",
    "\n",
    "# Generate Collatz sequence\n",
    "analysis_frame = gen.generate_odd_collatz_sequence(\n",
    "    start_value=START_VALUE, k=K_FACTOR, max_iterations=MAX_ITERATIONS)\n",
    "\n",
    "# Drop last row\n",
    "analysis_frame = analysis_frame[:-1]\n",
    "\n",
    "# Derive new fields\n",
    "analysis_frame[\"v_1\"] = START_VALUE\n",
    "analysis_frame[\"n\"] = analysis_frame.index + 1\n",
    "\n",
    "analysis_frame[\"alpha_i\"] = analysis_frame[\"next_collatz\"].apply(com.trailing_zeros)\n",
    "analysis_frame[\"alpha_i\"] = analysis_frame[\"alpha_i\"].astype(\"int64\")\n",
    "analysis_frame[\"alpha_i_max\"] = log2(K_FACTOR) + analysis_frame[\"collatz\"].apply(log2)\n",
    "analysis_frame[\"alpha_i_max\"] += (1 + 1/(K_FACTOR * analysis_frame[\"collatz\"])).apply(log2)\n",
    "# Round result here to avoid loss of precision errors\n",
    "analysis_frame[\"alpha_i_max\"] = analysis_frame[\"alpha_i_max\"].round(9)\n",
    "analysis_frame[\"alpha\"] = analysis_frame[\"alpha_i\"].cumsum()\n",
    "analysis_frame[\"alpha_cycle\"] = (log2(K_FACTOR) * analysis_frame[\"n\"]).astype('int64') + 1\n",
    "analysis_frame[\"alpha_max\"] = \\\n",
    "    log2(START_VALUE) + (analysis_frame[\"n\"] * log2(K_FACTOR))\n",
    "analysis_frame[\"alpha_max\"] = analysis_frame[\"alpha_max\"].astype('int64') + 1\n",
    "\n",
    "analysis_frame[\"bin_str\"] = analysis_frame[\"collatz\"].apply(com.to_binary)\n",
    "\n",
    "# Possibly set log mode\n",
    "if LOG_MODE:\n",
    "    analysis_frame[\"v_1\"] = analysis_frame[\"v1\"].apply(LOG_MODE)\n",
    "    analysis_frame[\"collatz\"] = analysis_frame[\"collatz\"].apply(LOG_MODE)\n",
    "    analysis_frame[\"next_odd\"] = analysis_frame[\"next_odd\"].apply(LOG_MODE)\n",
    "    \n",
    "# Validate alpha max & alpha pred\n",
    "final_alpha = analysis_frame[\"alpha\"].max()\n",
    "final_alpha_max = analysis_frame[\"alpha_max\"].max()\n",
    "\n",
    "alpha_max_valid = final_alpha == final_alpha_max\n",
    "alpha_i_max_valid = int((analysis_frame[\"alpha_i\"] <= analysis_frame[\"alpha_i_max\"]).sum())\n",
    "\n",
    "alphas_valid = alpha_max_valid and alpha_i_max_valid\n",
    "\n",
    "# Print results\n",
    "print_frame = analysis_frame[[\n",
    "    \"n\", \"v_1\", \"collatz\", \"next_odd\",\n",
    "    \"alpha_i\", \"alpha_i_max\", \"alpha\", \"alpha_cycle\",\n",
    "    \"alpha_max\", \"bin_str\"]]\n",
    "\n",
    "print_frame.columns = [\n",
    "    \"n\",\"v_1\", \"v_i\", \"v_i+\",\n",
    "    \"a_i\", \"a_i_max\", \"a\", \"a_cycle\", \"a_max\",\n",
    "    \"bin_str\"]\n",
    "\n",
    "print_frame = print_frame.reset_index(drop=True)\n",
    "\n",
    "print(\"Start value:\", START_VALUE, \n",
    "      \" K:\", K_FACTOR,\n",
    "      \" Alphas valid:\", alpha_max_valid, \"\\n\")\n",
    "\n",
    "if PRINT_TABLE:\n",
    "    print(print_frame.to_string(index=False), \"\\n\")\n"
   ]
  },
  {
   "cell_type": "code",
   "execution_count": null,
   "metadata": {
    "pycharm": {
     "name": "#%%\n"
    }
   },
   "outputs": [],
   "source": [
    "# Plot results\n",
    "plt.figure()\n",
    "plt.title(\"Collatz\")\n",
    "plt.plot(print_frame[\"v_i\"], \"o-\")\n",
    "\n",
    "\n",
    "plt.figure()\n",
    "plt.title(\"Alpha i\")\n",
    "plt.plot(print_frame[\"a_i\"], \"o-\")\n",
    "\n",
    "plt.figure()\n",
    "plt.title(\"Alpha i max\")\n",
    "plt.plot(print_frame[\"a_i_max\"], \"o-\")\n",
    "\n",
    "plt.figure()\n",
    "plt.title(\"Alpha max\")\n",
    "plt.plot(print_frame[\"a_max\"], \"o-\")\n",
    "\n",
    "plt.figure()\n",
    "plt.title(\"Alpha cycle\")\n",
    "plt.plot(print_frame[\"a_cycle\"], \"o-\")\n",
    "plt.show()\n"
   ]
  }
 ],
 "metadata": {
  "kernelspec": {
   "display_name": "collatz",
   "language": "python",
   "name": "collatz"
  },
  "language_info": {
   "codemirror_mode": {
    "name": "ipython",
    "version": 3
   },
   "file_extension": ".py",
   "mimetype": "text/x-python",
   "name": "python",
   "nbconvert_exporter": "python",
   "pygments_lexer": "ipython3",
   "version": "3.8.2"
  }
 },
 "nbformat": 4,
 "nbformat_minor": 1
}
