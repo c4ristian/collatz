{
 "cells": [
  {
   "cell_type": "markdown",
   "metadata": {
    "collapsed": true,
    "pycharm": {
     "name": "#%% md\n"
    }
   },
   "source": [
    "Collatz binary notebook"
   ]
  },
  {
   "cell_type": "code",
   "execution_count": 5,
   "outputs": [
    {
     "name": "stdout",
     "text": [
      "Start value: 101  K: 3 \n\n  v1   xi  odd  bin_len    bin_str   log2_xi  bin_growth\n 101  101    1        7    1100101  6.658211           0\n 101  304    0        9  100110000  8.247928           2\n 101  152    0        8   10011000  7.247928          -1\n 101   76    0        7    1001100  6.247928          -1\n 101   38    0        6     100110  5.247928          -1\n 101   19    1        5      10011  4.247928          -1\n 101   58    0        6     111010  5.857981           1\n 101   29    1        5      11101  4.857981          -1\n 101   88    0        7    1011000  6.459432           2\n 101   44    0        6     101100  5.459432          -1\n 101   22    0        5      10110  4.459432          -1\n 101   11    1        4       1011  3.459432          -1\n 101   34    0        6     100010  5.087463           2\n 101   17    1        5      10001  4.087463          -1\n 101   52    0        6     110100  5.700440           1\n 101   26    0        5      11010  4.700440          -1\n 101   13    1        4       1101  3.700440          -1\n 101   40    0        6     101000  5.321928           2\n 101   20    0        5      10100  4.321928          -1\n 101   10    0        4       1010  3.321928          -1\n 101    5    1        3        101  2.321928          -1\n 101   16    0        5      10000  4.000000           2\n 101    8    0        4       1000  3.000000          -1\n 101    4    0        3        100  2.000000          -1\n 101    2    0        2         10  1.000000          -1\n 101    1    1        1          1  0.000000          -1 \n\n"
     ],
     "output_type": "stream"
    }
   ],
   "source": [
    "\"\"\"\n",
    "This notebook analyses collatz sequences from a binary perspective.\n",
    "\"\"\"\n",
    "\n",
    "# Imports\n",
    "import random as rnd\n",
    "from math import log2\n",
    "import matplotlib.pyplot as plt\n",
    "import pandas as pd\n",
    "from collatz import generator as gen\n",
    "from collatz import commons as com\n",
    "\n",
    "# Configuration\n",
    "MAX_VALUE = 101\n",
    "K_FACTOR = 3\n",
    "MAX_ITERATIONS = 600\n",
    "PRINT_TABLE = True\n",
    "\n",
    "START_VALUE = rnd.randint(1, MAX_VALUE)\n",
    "\n",
    "if START_VALUE % 2 == 0:\n",
    "    START_VALUE = START_VALUE + 1\n",
    "\n",
    "pd.set_option('display.expand_frame_repr', False)\n",
    "pd.set_option('display.max_rows', 10000)\n",
    "pd.set_option('display.expand_frame_repr', False)\n",
    "\n",
    "# Create a collatz sequence and analyse it\n",
    "analysis_frame = gen.generate_collatz_sequence(\n",
    "    start_value=START_VALUE, k=K_FACTOR, max_iterations=MAX_ITERATIONS)\n",
    "\n",
    "# Derive new fields\n",
    "analysis_frame[\"v1\"] = START_VALUE\n",
    "analysis_frame[\"bin_str\"] = analysis_frame[\"collatz\"].apply(com.to_binary)\n",
    "analysis_frame[\"bin_len\"] = analysis_frame[\"bin_str\"].apply(len)\n",
    "analysis_frame[\"log2_xi\"] = analysis_frame[\"collatz\"].apply(log2)\n",
    "\n",
    "prev_bin_len = list(analysis_frame[:-1][\"bin_len\"])\n",
    "prev_bin_len.insert(0, prev_bin_len[0])\n",
    "analysis_frame[\"bin_growth\"] = analysis_frame[\"bin_len\"] - pd.Series(prev_bin_len)\n",
    "\n",
    "# Print data\n",
    "print_frame = analysis_frame[[\n",
    "    \"v1\", \"collatz\", \"odd\", \"bin_len\", \"bin_str\", \"log2_xi\", \"bin_growth\"]]\n",
    "\n",
    "print_frame.columns = [\n",
    "    \"v1\", \"xi\", \"odd\", \"bin_len\", \"bin_str\", \"log2_xi\", \"bin_growth\"]\n",
    "\n",
    "print(\"Start value:\", START_VALUE, \n",
    "      \" K:\", K_FACTOR, \n",
    "      \"\\n\")\n",
    "\n",
    "if PRINT_TABLE:\n",
    "    print(print_frame.to_string(index=False), \"\\n\")\n"
   ],
   "metadata": {
    "collapsed": false,
    "pycharm": {
     "name": "#%%\n",
     "is_executing": false
    }
   }
  },
  {
   "cell_type": "code",
   "execution_count": 6,
   "outputs": [
    {
     "data": {
      "text/plain": "<Figure size 432x288 with 1 Axes>",
      "image/png": "[encoded data removed]"
     },
     "metadata": {
      "needs_background": "light"
     },
     "output_type": "display_data"
    },
    {
     "data": {
      "text/plain": "<Figure size 432x288 with 1 Axes>",
      "image/png": "[encoded data removed]"
     },
     "metadata": {
      "needs_background": "light"
     },
     "output_type": "display_data"
    }
   ],
   "source": [
    "plt.figure()\n",
    "plt.title(\"Bin length\")\n",
    "plt.plot(analysis_frame[\"bin_len\"], \"-\")\n",
    "\n",
    "plt.figure()\n",
    "plt.title(\"Bin growth\")\n",
    "plt.bar(analysis_frame.index, analysis_frame[\"bin_growth\"])\n",
    "\n",
    "plt.show()"
   ],
   "metadata": {
    "collapsed": false,
    "pycharm": {
     "name": "#%%\n",
     "is_executing": false
    }
   }
  }
 ],
 "metadata": {
  "kernelspec": {
   "display_name": "Python 3",
   "language": "python",
   "name": "python3"
  },
  "language_info": {
   "codemirror_mode": {
    "name": "ipython",
    "version": 2
   },
   "file_extension": ".py",
   "mimetype": "text/x-python",
   "name": "python",
   "nbconvert_exporter": "python",
   "pygments_lexer": "ipython2",
   "version": "2.7.6"
  },
  "pycharm": {
   "stem_cell": {
    "cell_type": "raw",
    "source": [],
    "metadata": {
     "collapsed": false
    }
   }
  }
 },
 "nbformat": 4,
 "nbformat_minor": 0
}