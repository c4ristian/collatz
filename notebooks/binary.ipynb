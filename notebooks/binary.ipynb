{
 "cells": [
  {
   "cell_type": "markdown",
   "metadata": {
    "collapsed": true,
    "pycharm": {
     "name": "#%% md\n"
    }
   },
   "source": [
    "Collatz binary notebook"
   ]
  },
  {
   "cell_type": "code",
   "execution_count": 1,
   "outputs": [
    {
     "name": "stdout",
     "text": [
      "Start value: 21  K: 3 \n\n v1  xi  odd  bin_len  bin_str   log2_xi  bin_diff\n 21  21    1        5    10101  4.392317         0\n 21  64    0        7  1000000  6.000000         2\n 21  32    0        6   100000  5.000000        -1\n 21  16    0        5    10000  4.000000        -1\n 21   8    0        4     1000  3.000000        -1\n 21   4    0        3      100  2.000000        -1\n 21   2    0        2       10  1.000000        -1\n 21   1    1        1        1  0.000000        -1 \n\n"
     ],
     "output_type": "stream"
    }
   ],
   "source": [
    "\"\"\"\n",
    "This notebook analyses collatz sequences from a binary perspective.\n",
    "\"\"\"\n",
    "\n",
    "# Imports\n",
    "import random as rnd\n",
    "from math import log2\n",
    "import matplotlib.pyplot as plt\n",
    "import pandas as pd\n",
    "from collatz import generator as gen\n",
    "from collatz import commons as com\n",
    "\n",
    "# Configuration\n",
    "MAX_VALUE = 101\n",
    "K_FACTOR = 3\n",
    "MAX_ITERATIONS = 600\n",
    "PRINT_TABLE = True\n",
    "\n",
    "START_VALUE = rnd.randint(1, MAX_VALUE)\n",
    "\n",
    "if START_VALUE % 2 == 0:\n",
    "    START_VALUE = START_VALUE + 1\n",
    "\n",
    "pd.set_option('display.expand_frame_repr', False)\n",
    "pd.set_option('display.max_rows', 10000)\n",
    "pd.set_option('display.expand_frame_repr', False)\n",
    "\n",
    "# Create a collatz sequence and analyse it\n",
    "analysis_frame = gen.generate_collatz_sequence(\n",
    "    start_value=START_VALUE, k=K_FACTOR, max_iterations=MAX_ITERATIONS)\n",
    "\n",
    "# Derive new fields\n",
    "analysis_frame[\"v1\"] = START_VALUE\n",
    "analysis_frame[\"bin_str\"] = analysis_frame[\"collatz\"].apply(com.to_binary)\n",
    "analysis_frame[\"bin_len\"] = analysis_frame[\"bin_str\"].apply(len)\n",
    "analysis_frame[\"log2_xi\"] = analysis_frame[\"collatz\"].apply(log2)\n",
    "\n",
    "prev_bin_len = list(analysis_frame[:-1][\"bin_len\"])\n",
    "prev_bin_len.insert(0, prev_bin_len[0])\n",
    "analysis_frame[\"bin_diff\"] = analysis_frame[\"bin_len\"] - pd.Series(prev_bin_len)\n",
    "\n",
    "# Print data\n",
    "print_frame = analysis_frame[[\n",
    "    \"v1\", \"collatz\", \"odd\", \"bin_len\", \"bin_str\", \"log2_xi\", \"bin_diff\"]]\n",
    "\n",
    "print_frame.columns = [\n",
    "    \"v1\", \"xi\", \"odd\", \"bin_len\", \"bin_str\", \"log2_xi\", \"bin_diff\"]\n",
    "\n",
    "print(\"Start value:\", START_VALUE, \n",
    "      \" K:\", K_FACTOR, \n",
    "      \"\\n\")\n",
    "\n",
    "if PRINT_TABLE:\n",
    "    print(print_frame.to_string(index=False), \"\\n\")\n"
   ],
   "metadata": {
    "collapsed": false,
    "pycharm": {
     "name": "#%%\n",
     "is_executing": false
    }
   }
  },
  {
   "cell_type": "code",
   "execution_count": 2,
   "outputs": [
    {
     "data": {
      "text/plain": "<Figure size 432x288 with 1 Axes>",
      "image/png": "[encoded data removed]"
     },
     "metadata": {
      "needs_background": "light"
     },
     "output_type": "display_data"
    },
    {
     "data": {
      "text/plain": "<Figure size 432x288 with 1 Axes>",
      "image/png": "[encoded data removed]"
     },
     "metadata": {
      "needs_background": "light"
     },
     "output_type": "display_data"
    }
   ],
   "source": [
    "plt.figure()\n",
    "plt.title(\"Bin length\")\n",
    "plt.plot(analysis_frame[\"bin_len\"], \"-\")\n",
    "\n",
    "plt.figure()\n",
    "plt.title(\"Bin diff\")\n",
    "plt.bar(analysis_frame.index, analysis_frame[\"bin_diff\"])\n",
    "\n",
    "plt.show()"
   ],
   "metadata": {
    "collapsed": false,
    "pycharm": {
     "name": "#%%\n",
     "is_executing": false
    }
   }
  }
 ],
 "metadata": {
  "kernelspec": {
   "display_name": "Python 3",
   "language": "python",
   "name": "python3"
  },
  "language_info": {
   "codemirror_mode": {
    "name": "ipython",
    "version": 2
   },
   "file_extension": ".py",
   "mimetype": "text/x-python",
   "name": "python",
   "nbconvert_exporter": "python",
   "pygments_lexer": "ipython2",
   "version": "2.7.6"
  },
  "pycharm": {
   "stem_cell": {
    "cell_type": "raw",
    "source": [],
    "metadata": {
     "collapsed": false
    }
   }
  }
 },
 "nbformat": 4,
 "nbformat_minor": 0
}