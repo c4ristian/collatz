{
 "cells": [
  {
   "cell_type": "code",
   "execution_count": 1,
   "metadata": {
    "collapsed": true,
    "pycharm": {
     "is_executing": false,
     "name": "#%%\n"
    }
   },
   "outputs": [
    {
     "name": "stdout",
     "text": [
      "   n  n_mod    v1          vi      beta  beta_prod\n0  1      1  1001  751.000000  1.000333   1.000333\n1  2      0  1001  563.437500  1.000666   1.000999\n2  3      1  1001  422.359375  1.000148   1.001147\n3  4      0  1001  316.972656  1.000789   1.001938\n4  5      1  1001  238.807617  1.005328   1.007276\n5  6      0  1001  178.164307  1.000044   1.007320\n6  7      1  1001  133.867371  1.001871   1.009205\n7  8      0  1001  104.484512  1.042624   1.052221\n8  9      1  1001   75.160748  1.000013   1.052235\n"
     ],
     "output_type": "stream"
    }
   ],
   "source": [
    "# Imports\n",
    "import pandas as pd\n",
    "\n",
    "# Configuration\n",
    "pd.set_option('display.expand_frame_repr', False)\n",
    "pd.set_option('display.max_rows', 10000)\n",
    "pd.set_option('display.expand_frame_repr', False)\n",
    "\n",
    "# Analysis\n",
    "v1 = 1001\n",
    "n = pd.Series(range(1, 10))\n",
    "\n",
    "alpha = 4\n",
    "\n",
    "beta = 1 + 1/((3 * (3/(2 + 2 * (n % 3)))**(n-1))*v1)\n",
    "vi = (v1 * 3**n * beta) / (alpha**n)\n",
    "\n",
    "result_frame = pd.DataFrame({\n",
    "    \"n\": n,\n",
    "    \"n_mod\": n % 2,\n",
    "    \"v1\": v1,\n",
    "    \"vi\": vi,\n",
    "    \"beta\" : beta,\n",
    "    \"beta_prod\": beta.cumprod()\n",
    "})\n",
    "\n",
    "print(result_frame)"
   ]
  }
 ],
 "metadata": {
  "kernelspec": {
   "display_name": "Python 3",
   "language": "python",
   "name": "python3"
  },
  "language_info": {
   "codemirror_mode": {
    "name": "ipython",
    "version": 2
   },
   "file_extension": ".py",
   "mimetype": "text/x-python",
   "name": "python",
   "nbconvert_exporter": "python",
   "pygments_lexer": "ipython2",
   "version": "2.7.6"
  },
  "pycharm": {
   "stem_cell": {
    "cell_type": "raw",
    "source": [],
    "metadata": {
     "collapsed": false
    }
   }
  }
 },
 "nbformat": 4,
 "nbformat_minor": 0
}