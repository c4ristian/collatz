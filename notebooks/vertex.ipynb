{
 "cells": [
  {
   "cell_type": "markdown",
   "metadata": {
    "collapsed": true,
    "pycharm": {
     "name": "#%% md\n"
    }
   },
   "source": [
    "Collatz vertex notebook"
   ]
  },
  {
   "cell_type": "code",
   "execution_count": 1,
   "outputs": [
    {
     "name": "stdout",
     "text": [
      "Start value: 805675  K: 3 \n\n  n      v1       vn     vn+1    vn+1_pred   a  a_pred  a1  a2                    bin\n  1  805675   805675  1208513      1208513   1       2   1   0   11000100101100101011\n  2  805675  1208513   906385      2719155   3       4   1   2  100100111000011000001\n  3  805675   906385   679789      6118101   5       5   1   4   11011101010010010001\n  4  805675   679789   254921     20648593   8       7   1   7   10100101111101101101\n  5  805675   254921   191191     46459337  10       8   1   9     111110001111001001\n  6  805675   191191   286787     69689006  11      10   1  10     101110101011010111\n  7  805675   286787   430181    104533509  12      12   1  11    1000110000001000011\n  8  805675   430181    80659    529200896  16      13   1  15    1101001000001100101\n  9  805675    80659   120989    793801344  17      15   1  16      10011101100010011\n 10  805675   120989    45371   2679079540  20      16   1  19      11101100010011101\n 11  805675    45371    68057   4018619310  21      18   1  20       1011000100111011\n 12  805675    68057    51043   9041893450  23      20   1  22      10000100111011001\n 13  805675    51043    76565  13562840176  24      21   1  23       1100011101100011\n 14  805675    76565     3589   -129596258  30      23   1  29      10010101100010101\n 15  805675     3589      673    417660769  34      24   1  33           111000000101\n 16  805675      673      505   -134005091  36      26   1  35             1010100001 \n\n"
     ],
     "output_type": "stream"
    }
   ],
   "source": [
    "\"\"\"\n",
    "This notebook tests a formula that calculates a specific vertex (odd number)\n",
    "of a Collatz sequence following a specific path. The formula models a path \n",
    "where the sequence initially decreases and subsequently enters the worst case path\n",
    "in only one division by 2 takes place in every iteration.\n",
    "\"\"\"\n",
    "\n",
    "# Imports\n",
    "from math import log2\n",
    "import pandas as pd\n",
    "from collatz import generator as gen\n",
    "from collatz import commons as com\n",
    "\n",
    "# Configuration\n",
    "K_FACTOR = 3\n",
    "MAX_ITERATIONS = 50\n",
    "PRINT_TABLE = True\n",
    "\n",
    "# Create a starting value that leads to the analysed path\n",
    "# START_VALUE = int('11111110101', 2)\n",
    "START_VALUE = 805675\n",
    "\n",
    "pd.set_option('display.expand_frame_repr', False)\n",
    "pd.set_option('display.max_rows', 10000)\n",
    "pd.set_option('display.expand_frame_repr', False)\n",
    "\n",
    "# Create a collatz sequence and analyse it\n",
    "analysis_frame = gen.generate_collatz_sequence(\n",
    "    start_value=START_VALUE, k=K_FACTOR, max_iterations=MAX_ITERATIONS)\n",
    "\n",
    "# Filter odd values\n",
    "analysis_frame = analysis_frame[analysis_frame[\"odd\"] == 1]\n",
    "analysis_frame = analysis_frame.reset_index(drop=True)\n",
    "\n",
    "# Derive new fields\n",
    "analysis_frame[\"v1\"] = START_VALUE\n",
    "analysis_frame[\"n\"] = analysis_frame.index + 1\n",
    "\n",
    "analysis_frame[\"alpha\"] = analysis_frame[\"next_collatz\"].apply(com.trailing_zeros)\n",
    "analysis_frame[\"alpha\"] = analysis_frame[\"alpha\"].astype(\"int64\")\n",
    "analysis_frame[\"alpha_sum\"] = analysis_frame[\"alpha\"].cumsum()\n",
    "analysis_frame[\"alpha_pred\"] = (log2(K_FACTOR) * analysis_frame[\"n\"]).astype('int64') + 1\n",
    "analysis_frame[\"alpha_diff\"] = analysis_frame[\"alpha_sum\"] - analysis_frame[\"alpha_pred\"]\n",
    "\n",
    "analysis_frame[\"alpha1\"] = analysis_frame[\"alpha\"][0]\n",
    "analysis_frame[\"alpha2\"] = analysis_frame[\"alpha_sum\"] - analysis_frame[\"alpha1\"]\n",
    "\n",
    "analysis_frame[\"next_odd_pred\"] = 3**(analysis_frame[\"alpha2\"] + 1) * analysis_frame[\"v1\"]\n",
    "analysis_frame[\"next_odd_pred\"] = analysis_frame[\"next_odd_pred\"] + 3**analysis_frame[\"alpha2\"]\n",
    "analysis_frame[\"next_odd_pred\"] = analysis_frame[\"next_odd_pred\"] + \\\n",
    "                         (3**(analysis_frame[\"alpha2\"]) * 2**(analysis_frame[\"alpha1\"]))\n",
    "\n",
    "analysis_frame[\"next_odd_pred\"] = (analysis_frame[\"next_odd_pred\"] / \n",
    "                                  2**(analysis_frame[\"alpha_sum\"])) - 1\n",
    "\n",
    "analysis_frame[\"next_odd_pred\"] = analysis_frame[\"next_odd_pred\"].astype('int64')\n",
    "                         \n",
    "print_frame = analysis_frame[[\n",
    "    \"n\", \"v1\", \"collatz\", \"next_odd\", \"next_odd_pred\", \"alpha_sum\", \"alpha_pred\", \n",
    "    \"alpha1\", \"alpha2\", \"bin_str\"]]\n",
    "\n",
    "print_frame.columns = [\n",
    "    \"n\",\"v1\", \"vn\", \"vn+1\", \"vn+1_pred\", \"a\", \"a_pred\", \"a1\", \"a2\", \"bin\"]\n",
    "\n",
    "print(\"Start value:\", START_VALUE, \n",
    "      \" K:\", K_FACTOR, \"\\n\")\n",
    "\n",
    "if PRINT_TABLE:\n",
    "    print(print_frame.to_string(index=False), \"\\n\")"
   ],
   "metadata": {
    "collapsed": false,
    "pycharm": {
     "name": "#%%\n",
     "is_executing": false
    }
   }
  }
 ],
 "metadata": {
  "kernelspec": {
   "display_name": "Python 3",
   "language": "python",
   "name": "python3"
  },
  "language_info": {
   "codemirror_mode": {
    "name": "ipython",
    "version": 2
   },
   "file_extension": ".py",
   "mimetype": "text/x-python",
   "name": "python",
   "nbconvert_exporter": "python",
   "pygments_lexer": "ipython2",
   "version": "2.7.6"
  },
  "pycharm": {
   "stem_cell": {
    "cell_type": "raw",
    "source": [],
    "metadata": {
     "collapsed": false
    }
   }
  }
 },
 "nbformat": 4,
 "nbformat_minor": 0
}