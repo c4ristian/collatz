{
 "cells": [
  {
   "cell_type": "markdown",
   "metadata": {
    "collapsed": true,
    "pycharm": {
     "name": "#%% md\n"
    }
   },
   "source": [
    "## Collatz self contained notebook"
   ]
  },
  {
   "cell_type": "code",
   "execution_count": 1,
   "outputs": [
    {
     "name": "stdout",
     "output_type": "stream",
     "text": [
      "Start value: 329  K: 3  Self contained: False  Sigma natural: False \n",
      "\n",
      "  n  v_1  v_i  v_i+     m     sc   b_i     b   a            s  s_natural\n",
      "  1  329  329   247 0.751  False 1.001 1.001   2        3.003      False\n",
      "  2  329  247   371 1.128  False 1.001 1.002   3        9.021      False\n",
      "  3  329  371   557 1.693  False 1.001 1.003   4       27.088      False\n",
      "  4  329  557   209 0.635  False 1.001 1.004   7       81.313      False\n",
      "  5  329  209   157 0.477  False 1.002 1.005   9      244.328      False\n",
      "  6  329  157    59 0.179  False 1.002 1.008  12      734.541      False\n",
      "  7  329   59    89 0.271  False 1.006 1.013  13     2216.073      False\n",
      "  8  329   89    67 0.204  False 1.004 1.017  15     6673.119      False\n",
      "  9  329   67   101 0.307  False 1.005 1.022  16    20118.954      False\n",
      " 10  329  101    19 0.058  False 1.003 1.026  20    60556.061      False\n",
      " 11  329   19    29 0.088  False 1.018 1.044  21   184855.343      False\n",
      " 12  329   29    11 0.033  False 1.011 1.056  24   560940.353      False\n",
      " 13  329   11    17 0.052  False 1.030 1.087  25  1733815.635      False\n",
      " 14  329   17    13 0.040  False 1.020 1.109  27  5303436.061      False\n",
      " 15  329   13     5 0.015  False 1.026 1.137  30 16318264.802      False\n",
      " 16  329    5     1 0.003  False 1.067 1.213  34 52218447.368      False \n",
      "\n"
     ]
    }
   ],
   "source": [
    "\"\"\"\n",
    "This notebook analyses collatz sequences that lead to self contained numbers. Self contained\n",
    "means in this context that an odd collatz number leads to an even collatz number that is \n",
    "a multiple of the odd number. The odd number 31 e.g. results for k= 3 in the even number \n",
    "310 which equals 10 * 31.\n",
    "\"\"\"\n",
    "\n",
    "# Fix possible import problems\n",
    "import sys\n",
    "sys.path.append(\"..\")\n",
    "\n",
    "# Imports\n",
    "from math import log2\n",
    "from matplotlib import pyplot as plt\n",
    "import random as rnd\n",
    "import pandas as pd\n",
    "from collatz import generator as gen\n",
    "from collatz import commons as com\n",
    "\n",
    "# Configuration\n",
    "MAX_VALUE = 1001\n",
    "K_FACTOR = 3\n",
    "MAX_ITERATIONS = 300\n",
    "ODDS_ONLY = True\n",
    "PRINT_TABLE = True\n",
    "\n",
    "START_VALUE = rnd.randint(1, MAX_VALUE)\n",
    "\n",
    "if START_VALUE % 2 == 0:\n",
    "    START_VALUE = START_VALUE + 1\n",
    "\n",
    "# START_VALUE = 31\n",
    "\n",
    "pd.set_option('display.expand_frame_repr', False)\n",
    "pd.set_option('display.max_rows', 10000)\n",
    "pd.set_option('display.expand_frame_repr', False)\n",
    "pd.set_option('display.float_format', lambda x: '%.3f' % x)\n",
    "\n",
    "# Generate Collatz sequence\n",
    "analysis_frame = gen.generate_odd_collatz_sequence(\n",
    "    start_value=START_VALUE, k=K_FACTOR, max_iterations=MAX_ITERATIONS)\n",
    "\n",
    "# Drop last row\n",
    "analysis_frame = analysis_frame[:-1]\n",
    "\n",
    "# Derive new fields\n",
    "analysis_frame[\"n\"] = analysis_frame.index + 1\n",
    "\n",
    "analysis_frame[\"beta_i\"] = 1 + 1 / (K_FACTOR * analysis_frame[\"collatz\"])\n",
    "analysis_frame[\"beta\"] = analysis_frame[\"beta_i\"].cumprod()\n",
    "\n",
    "analysis_frame[\"sigma_i\"] = K_FACTOR + (1 / analysis_frame[\"collatz\"])\n",
    "analysis_frame[\"sigma\"] = analysis_frame[\"sigma_i\"].cumprod()\n",
    "analysis_frame[\"sigma\"] = analysis_frame[\"sigma\"]\n",
    "analysis_frame[\"sigma_natural\"] = analysis_frame[\"sigma\"] % 1 == 0\n",
    "\n",
    "analysis_frame[\"alpha_i\"] = analysis_frame[\"next_collatz\"].apply(com.trailing_zeros)\n",
    "analysis_frame[\"alpha_i\"] = analysis_frame[\"alpha_i\"].astype('int64')\n",
    "analysis_frame[\"alpha_cycle\"] = (log2(K_FACTOR) * analysis_frame[\"n\"]).astype('int64') + 1\n",
    "analysis_frame[\"alpha_max\"] = \\\n",
    "    log2(START_VALUE) + (analysis_frame[\"n\"] * log2(K_FACTOR))\n",
    "analysis_frame[\"alpha_max\"] = analysis_frame[\"alpha_max\"].astype('int64') + 1\n",
    "analysis_frame[\"alpha\"] = analysis_frame[\"alpha_i\"].cumsum()\n",
    "\n",
    "analysis_frame[\"v_1\"] = START_VALUE\n",
    "analysis_frame[\"n\"] = analysis_frame.index + 1\n",
    "\n",
    "analysis_frame[\"multiple\"] = analysis_frame[\"next_odd\"] / analysis_frame[\"v_1\"]\n",
    "analysis_frame[\"self_contained\"] = (analysis_frame[\"multiple\"] % 1 == 0) &  \\\n",
    "                                   (analysis_frame[\"multiple\"] > 1) \n",
    "\n",
    "# Print results\n",
    "is_self_contained = analysis_frame[\"self_contained\"].sum() >= 1\n",
    "is_sigma_natural = (analysis_frame[\"sigma_natural\"]).sum() >= 1\n",
    "\n",
    "print_frame = analysis_frame[[\n",
    "    \"n\", \"v_1\", \"collatz\", \"next_odd\", \"multiple\",  \n",
    "    \"self_contained\", \"beta_i\", \"beta\", \n",
    "    \"alpha\", \"sigma\", \"sigma_natural\"]]\n",
    "\n",
    "print_frame.columns = [\n",
    "    \"n\",\"v_1\", \"v_i\", \"v_i+\", \"m\", \"sc\", \"b_i\", \"b\", \n",
    "    \"a\", \"s\", \"s_natural\"]\n",
    "\n",
    "print(\"Start value:\", START_VALUE, \n",
    "      \" K:\", K_FACTOR, \n",
    "      \" Self contained:\", is_self_contained,\n",
    "      \" Sigma natural:\", is_sigma_natural,\n",
    "      \"\\n\")\n",
    "\n",
    "if PRINT_TABLE:\n",
    "    print(print_frame.to_string(index=False), \"\\n\")\n",
    "    "
   ],
   "metadata": {
    "collapsed": false,
    "pycharm": {
     "name": "#%%\n"
    }
   }
  },
  {
   "cell_type": "code",
   "execution_count": 2,
   "outputs": [
    {
     "data": {
      "text/plain": "<Figure size 432x288 with 1 Axes>",
      "image/png": "[encoded data removed]"
     },
     "metadata": {
      "needs_background": "light"
     },
     "output_type": "display_data"
    }
   ],
   "source": [
    "# Plot results\n",
    "plt.figure()\n",
    "plt.title(\"Collatz\")\n",
    "plt.plot(analysis_frame[\"collatz\"], \"-\")\n",
    "plt.show()"
   ],
   "metadata": {
    "collapsed": false,
    "pycharm": {
     "name": "#%%\n"
    }
   }
  }
 ],
 "metadata": {
  "kernelspec": {
   "name": "collatz",
   "language": "python",
   "display_name": "collatz"
  },
  "language_info": {
   "codemirror_mode": {
    "name": "ipython",
    "version": 2
   },
   "file_extension": ".py",
   "mimetype": "text/x-python",
   "name": "python",
   "nbconvert_exporter": "python",
   "pygments_lexer": "ipython2",
   "version": "2.7.6"
  }
 },
 "nbformat": 4,
 "nbformat_minor": 0
}