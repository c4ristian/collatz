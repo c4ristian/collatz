{
 "cells": [
  {
   "cell_type": "markdown",
   "metadata": {
    "collapsed": true,
    "pycharm": {
     "name": "#%% md\n"
    }
   },
   "source": [
    "Collatz self contained notebook"
   ]
  },
  {
   "cell_type": "code",
   "execution_count": 1,
   "outputs": [
    {
     "name": "stdout",
     "text": [
      "Start value: 671  K: 3  Self contained: True  Sigma natural: True \n\n  n   v1     vi   vi+1      m     sc     b  b_prod  a_sum               s_prod  s_natural\n  1  671    671   1007  1.501  False 1.000   1.000      1                3.001      False\n  2  671   1007   1511  2.252  False 1.000   1.001      2                9.007      False\n  3  671   1511   2267  3.379  False 1.000   1.001      3               27.028      False\n  4  671   2267   3401  5.069  False 1.000   1.001      4               81.097      False\n  5  671   3401   2551  3.802  False 1.000   1.001      6              243.314      False\n  6  671   2551   3827  5.703  False 1.000   1.001      7              730.039      False\n  7  671   3827   5741  8.556  False 1.000   1.002      8             2190.307      False\n  8  671   5741   2153  3.209  False 1.000   1.002     11             6571.303      False\n  9  671   2153   1615  2.407  False 1.000   1.002     13            19716.960      False\n 10  671   1615   2423  3.611  False 1.000   1.002     14            59163.088      False\n 11  671   2423   3635  5.417  False 1.000   1.002     15           177513.681      False\n 12  671   3635   5453  8.127  False 1.000   1.002     16           532589.878      False\n 13  671   5453   2045  3.048  False 1.000   1.002     19          1597867.303      False\n 14  671   2045    767  1.143  False 1.000   1.002     22          4794383.261      False\n 15  671    767   1151  1.715  False 1.000   1.003     23         14389400.608      False\n 16  671   1151   1727  2.574  False 1.000   1.003     24         43180703.475      False\n 17  671   1727   2591  3.861  False 1.000   1.003     25        129567113.729      False\n 18  671   2591   3887  5.793  False 1.000   1.003     26        388751347.791      False\n 19  671   3887   5831  8.690  False 1.000   1.004     27       1166354056.584      False\n 20  671   5831   8747 13.036  False 1.000   1.004     28       3499262196.173      False\n 21  671   8747  13121 19.554  False 1.000   1.004     29      10498186641.359      False\n 22  671  13121   9841 14.666  False 1.000   1.004     31      31495360029.759      False\n 23  671   9841   7381 11.000   True 1.000   1.004     33      94489280512.000      False\n 24  671   7381    173  0.258  False 1.000   1.004     40     283480643226.897      False\n 25  671    173     65  0.097  False 1.002   1.006     43     852080546115.529      False\n 26  671     65     49  0.073  False 1.005   1.011     45    2569350569825.287      False\n 27  671     49     37  0.055  False 1.007   1.018     47    7760487435390.662      False\n 28  671     37      7  0.010  False 1.009   1.027     51   23491205209831.195      False\n 29  671      7     11  0.016  False 1.048   1.076     52   73829502088040.891      False\n 30  671     11     17  0.025  False 1.030   1.108     53  228200279181217.281      False\n 31  671     17     13  0.019  False 1.020   1.130     55  698024383377841.000       True\n 32  671     13      5  0.007  False 1.026   1.159     58 2147767333470280.000       True\n 33  671      5      1  0.001  False 1.067   1.236     62 6872855467104896.000       True \n\n"
     ],
     "output_type": "stream"
    }
   ],
   "source": [
    "\"\"\"\n",
    "This notebook analyses collatz sequences that lead to self contained numbers. Self contained\n",
    "means in this context that an odd collatz number leads to an even collatz number that is \n",
    "a multiple of the odd number. The odd number 31 e.g. results for k= 3 in the even number \n",
    "310 which equals 10 * 31.\n",
    "\"\"\"\n",
    "\n",
    "# Imports\n",
    "from math import log2\n",
    "from matplotlib import pyplot as plt\n",
    "import random as rnd\n",
    "import pandas as pd\n",
    "from collatz import generator as gen\n",
    "from collatz import commons as com\n",
    "\n",
    "# Configuration\n",
    "MAX_VALUE = 1001\n",
    "K_FACTOR = 3\n",
    "MAX_ITERATIONS = 300\n",
    "ODDS_ONLY = True\n",
    "PRINT_TABLE = True\n",
    "\n",
    "START_VALUE = rnd.randint(1, MAX_VALUE)\n",
    "\n",
    "if START_VALUE % 2 == 0:\n",
    "    START_VALUE = START_VALUE + 1\n",
    "\n",
    "START_VALUE = 671\n",
    "\n",
    "pd.set_option('display.expand_frame_repr', False)\n",
    "pd.set_option('display.max_rows', 10000)\n",
    "pd.set_option('display.expand_frame_repr', False)\n",
    "pd.set_option('display.float_format', lambda x: '%.3f' % x)\n",
    "# pd.set_option('display.float_format', None)\n",
    "\n",
    "# Create a collatz sequence and analyse it\n",
    "analysis_frame = gen.generate_collatz_sequence(\n",
    "    start_value=START_VALUE, k=K_FACTOR, max_iterations=MAX_ITERATIONS)\n",
    "\n",
    "# Filter odd values\n",
    "analysis_frame = analysis_frame[analysis_frame[\"odd\"] == 1]\n",
    "analysis_frame = analysis_frame.reset_index(drop=True)\n",
    "\n",
    "# Drop last row if sequences has ended with 1\n",
    "if len(analysis_frame) > 1 & int(analysis_frame.tail(1)[\"collatz\"]) == 1:\n",
    "    analysis_frame = analysis_frame[:-1]\n",
    "\n",
    "# Derive new fields\n",
    "analysis_frame[\"n\"] = analysis_frame.index + 1\n",
    "\n",
    "analysis_frame[\"beta\"] = 1 + 1 / (K_FACTOR * analysis_frame[\"collatz\"])\n",
    "analysis_frame[\"beta_prod\"] = analysis_frame[\"beta\"].cumprod()\n",
    "\n",
    "analysis_frame[\"sigma\"] = K_FACTOR + (1 / analysis_frame[\"collatz\"])\n",
    "analysis_frame[\"sigma_prod\"] = analysis_frame[\"sigma\"].cumprod()\n",
    "analysis_frame[\"sigma_prod\"] = analysis_frame[\"sigma_prod\"]\n",
    "analysis_frame[\"sigma_natural\"] = analysis_frame[\"sigma_prod\"] % 1 == 0\n",
    "\n",
    "analysis_frame[\"alpha\"] = analysis_frame[\"next_collatz\"].apply(com.trailing_zeros)\n",
    "analysis_frame[\"alpha\"] = analysis_frame[\"alpha\"].astype('int64')\n",
    "analysis_frame[\"alpha_pred\"] = (log2(K_FACTOR) * analysis_frame[\"n\"]).astype('int64') + 1\n",
    "analysis_frame[\"alpha_max\"] = \\\n",
    "    log2(START_VALUE) + (analysis_frame[\"n\"] * log2(K_FACTOR))\n",
    "analysis_frame[\"alpha_max\"] = analysis_frame[\"alpha_max\"].astype('int64') + 1\n",
    "analysis_frame[\"alpha_sum\"] = analysis_frame[\"alpha\"].cumsum()\n",
    "\n",
    "analysis_frame[\"v1\"] = START_VALUE\n",
    "analysis_frame[\"n\"] = analysis_frame.index + 1\n",
    "\n",
    "analysis_frame[\"multiple\"] = analysis_frame[\"next_odd\"] / analysis_frame[\"v1\"]\n",
    "analysis_frame[\"self_contained\"] = (analysis_frame[\"multiple\"] % 1 == 0) &  \\\n",
    "                                   (analysis_frame[\"multiple\"] > 1) \n",
    "\n",
    "# Print results\n",
    "is_self_contained = analysis_frame[\"self_contained\"].sum() >= 1\n",
    "is_sigma_natural = (analysis_frame[\"sigma_natural\"]).sum() >= 1\n",
    "\n",
    "print_frame = analysis_frame[[\n",
    "    \"n\", \"v1\", \"collatz\", \"next_odd\", \"multiple\",  \n",
    "    \"self_contained\", \"beta\", \"beta_prod\", \n",
    "    \"alpha_sum\", \"sigma_prod\", \"sigma_natural\"]]\n",
    "\n",
    "print_frame.columns = [\n",
    "    \"n\",\"v1\", \"vi\", \"vi+1\", \"m\", \"sc\", \"b\", \"b_prod\", \n",
    "    \"a_sum\", \"s_prod\", \"s_natural\"]\n",
    "\n",
    "print(\"Start value:\", START_VALUE, \n",
    "      \" K:\", K_FACTOR, \n",
    "      \" Self contained:\", is_self_contained,\n",
    "      \" Sigma natural:\", is_sigma_natural,\n",
    "      \"\\n\")\n",
    "\n",
    "if PRINT_TABLE:\n",
    "    print(print_frame.to_string(index=False), \"\\n\")\n",
    "    "
   ],
   "metadata": {
    "collapsed": false,
    "pycharm": {
     "name": "#%%\n",
     "is_executing": false
    }
   }
  },
  {
   "cell_type": "code",
   "execution_count": 2,
   "outputs": [
    {
     "data": {
      "text/plain": "[<matplotlib.lines.Line2D at 0x1f35d264940>]"
     },
     "metadata": {},
     "output_type": "execute_result",
     "execution_count": 2
    },
    {
     "data": {
      "text/plain": "<Figure size 432x288 with 1 Axes>",
      "image/png": "[encoded data removed]"
     },
     "metadata": {
      "needs_background": "light"
     },
     "output_type": "display_data"
    }
   ],
   "source": [
    "# Plot results\n",
    "plt.figure()\n",
    "plt.title(\"Collatz\")\n",
    "plt.plot(analysis_frame[\"collatz\"], \"-\")"
   ],
   "metadata": {
    "collapsed": false,
    "pycharm": {
     "name": "#%%\n",
     "is_executing": false
    }
   }
  }
 ],
 "metadata": {
  "kernelspec": {
   "display_name": "Python 3",
   "language": "python",
   "name": "python3"
  },
  "language_info": {
   "codemirror_mode": {
    "name": "ipython",
    "version": 2
   },
   "file_extension": ".py",
   "mimetype": "text/x-python",
   "name": "python",
   "nbconvert_exporter": "python",
   "pygments_lexer": "ipython2",
   "version": "2.7.6"
  },
  "pycharm": {
   "stem_cell": {
    "cell_type": "raw",
    "source": [],
    "metadata": {
     "collapsed": false
    }
   }
  }
 },
 "nbformat": 4,
 "nbformat_minor": 0
}