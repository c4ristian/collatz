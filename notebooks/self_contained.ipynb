{
 "cells": [
  {
   "cell_type": "markdown",
   "metadata": {
    "collapsed": true,
    "pycharm": {
     "name": "#%% md\n"
    }
   },
   "source": [
    "## Collatz self contained notebook"
   ]
  },
  {
   "cell_type": "code",
   "execution_count": 5,
   "outputs": [
    {
     "name": "stdout",
     "text": [
      "Start value: 31  K: 3  Self contained: True  Sigma natural: True \n\n  n  v_1   v_i  v_i+      m     sc   b_i     b   a                       s  s_natural\n  1   31    31    47  1.516  False 1.011 1.011   1                   3.032      False\n  2   31    47    71  2.290  False 1.007 1.018   2                   9.161      False\n  3   31    71   107  3.452  False 1.005 1.023   3                  27.613      False\n  4   31   107   161  5.194  False 1.003 1.026   4                  83.097      False\n  5   31   161   121  3.903  False 1.002 1.028   6                 249.806      False\n  6   31   121    91  2.935  False 1.003 1.031   8                 751.484      False\n  7   31    91   137  4.419  False 1.004 1.035   9                2262.710      False\n  8   31   137   103  3.323  False 1.002 1.037  11                6804.645      False\n  9   31   103   155  5.000   True 1.003 1.040  12               20480.000       True\n 10   31   155   233  7.516  False 1.002 1.043  13               61572.129      False\n 11   31   233   175  5.645  False 1.001 1.044  15              184980.645      False\n 12   31   175   263  8.484  False 1.002 1.046  16              555998.968      False\n 13   31   263   395 12.742  False 1.001 1.048  17             1670110.968      False\n 14   31   395   593 19.129  False 1.001 1.048  18             5014561.032      False\n 15   31   593   445 14.355  False 1.001 1.049  20            15052139.355      False\n 16   31   445   167  5.387  False 1.001 1.050  23            45190243.097      False\n 17   31   167   251  8.097  False 1.002 1.052  24           135841329.548      False\n 18   31   251   377 12.161  False 1.001 1.053  25           408065189.161      False\n 19   31   377   283  9.129  False 1.001 1.054  27          1225277968.516      False\n 20   31   283   425 13.710  False 1.001 1.055  28          3680163509.677      False\n 21   31   425   319 10.290  False 1.001 1.056  30         11049149737.290      False\n 22   31   319   479 15.452  False 1.001 1.057  31         33182086044.903      False\n 23   31   479   719 23.194  False 1.001 1.058  32         99615531800.774      False\n 24   31   719  1079 34.806  False 1.000 1.059  33        298985142734.452      False\n 25   31  1079  1619 52.226  False 1.000 1.059  34        897232522867.613      False\n 26   31  1619  2429 78.355  False 1.000 1.059  35       2692251757931.354      False\n 27   31  2429   911 29.387  False 1.000 1.059  38       8077863652451.096      False\n 28   31   911  1367 44.097  False 1.000 1.060  39      24242457986609.547      False\n 29   31  1367  2051 66.161  False 1.000 1.060  40      72745108018341.156      False\n 30   31  2051  3077 99.258  False 1.000 1.060  41     218270792172048.500      False\n 31   31  3077   577 18.613  False 1.000 1.060  45     654883312750195.625      False\n 32   31   577   433 13.968  False 1.001 1.061  47    1965784917995388.000       True\n 33   31   433   325 10.484  False 1.001 1.062  49    5901894672965368.000       True\n 34   31   325    61  1.968  False 1.001 1.063  53   17723843694812920.000       True\n 35   31    61    23  0.742  False 1.005 1.069  56   53462085899107824.000       True\n 36   31    23    35  1.129  False 1.014 1.084  57  162710696214676000.000       True\n 37   31    35    53  1.710  False 1.010 1.094  58  492780965678732992.000       True\n 38   31    53     5  0.161  False 1.006 1.101  63 1487640651105609216.000       True\n 39   31     5     1  0.032  False 1.067 1.175  67 4760450083537949696.000       True \n\n"
     ],
     "output_type": "stream"
    }
   ],
   "source": [
    "\"\"\"\n",
    "This notebook analyses collatz sequences that lead to self contained numbers. Self contained\n",
    "means in this context that an odd collatz number leads to an even collatz number that is \n",
    "a multiple of the odd number. The odd number 31 e.g. results for k= 3 in the even number \n",
    "310 which equals 10 * 31.\n",
    "\"\"\"\n",
    "\n",
    "# Fix possible import problems\n",
    "import sys\n",
    "sys.path.append(\"..\")\n",
    "\n",
    "# Imports\n",
    "from math import log2\n",
    "from matplotlib import pyplot as plt\n",
    "import random as rnd\n",
    "import pandas as pd\n",
    "from collatz import generator as gen\n",
    "from collatz import commons as com\n",
    "\n",
    "# Configuration\n",
    "MAX_VALUE = 1001\n",
    "K_FACTOR = 3\n",
    "MAX_ITERATIONS = 300\n",
    "ODDS_ONLY = True\n",
    "PRINT_TABLE = True\n",
    "\n",
    "START_VALUE = rnd.randint(1, MAX_VALUE)\n",
    "\n",
    "if START_VALUE % 2 == 0:\n",
    "    START_VALUE = START_VALUE + 1\n",
    "\n",
    "START_VALUE = 31\n",
    "\n",
    "pd.set_option('display.expand_frame_repr', False)\n",
    "pd.set_option('display.max_rows', 10000)\n",
    "pd.set_option('display.expand_frame_repr', False)\n",
    "pd.set_option('display.float_format', lambda x: '%.3f' % x)\n",
    "\n",
    "# Generate Collatz sequence\n",
    "analysis_frame = gen.generate_odd_collatz_sequence(\n",
    "    start_value=START_VALUE, k=K_FACTOR, max_iterations=MAX_ITERATIONS)\n",
    "\n",
    "# Drop last row\n",
    "analysis_frame = analysis_frame[:-1]\n",
    "\n",
    "# Derive new fields\n",
    "analysis_frame[\"n\"] = analysis_frame.index + 1\n",
    "\n",
    "analysis_frame[\"beta_i\"] = 1 + 1 / (K_FACTOR * analysis_frame[\"collatz\"])\n",
    "analysis_frame[\"beta\"] = analysis_frame[\"beta_i\"].cumprod()\n",
    "\n",
    "analysis_frame[\"sigma_i\"] = K_FACTOR + (1 / analysis_frame[\"collatz\"])\n",
    "analysis_frame[\"sigma\"] = analysis_frame[\"sigma_i\"].cumprod()\n",
    "analysis_frame[\"sigma\"] = analysis_frame[\"sigma\"]\n",
    "analysis_frame[\"sigma_natural\"] = analysis_frame[\"sigma\"] % 1 == 0\n",
    "\n",
    "analysis_frame[\"alpha_i\"] = analysis_frame[\"next_collatz\"].apply(com.trailing_zeros)\n",
    "analysis_frame[\"alpha_i\"] = analysis_frame[\"alpha_i\"].astype('int64')\n",
    "analysis_frame[\"alpha_cycle\"] = (log2(K_FACTOR) * analysis_frame[\"n\"]).astype('int64') + 1\n",
    "analysis_frame[\"alpha_max\"] = \\\n",
    "    log2(START_VALUE) + (analysis_frame[\"n\"] * log2(K_FACTOR))\n",
    "analysis_frame[\"alpha_max\"] = analysis_frame[\"alpha_max\"].astype('int64') + 1\n",
    "analysis_frame[\"alpha\"] = analysis_frame[\"alpha_i\"].cumsum()\n",
    "\n",
    "analysis_frame[\"v_1\"] = START_VALUE\n",
    "analysis_frame[\"n\"] = analysis_frame.index + 1\n",
    "\n",
    "analysis_frame[\"multiple\"] = analysis_frame[\"next_odd\"] / analysis_frame[\"v_1\"]\n",
    "analysis_frame[\"self_contained\"] = (analysis_frame[\"multiple\"] % 1 == 0) &  \\\n",
    "                                   (analysis_frame[\"multiple\"] > 1) \n",
    "\n",
    "# Print results\n",
    "is_self_contained = analysis_frame[\"self_contained\"].sum() >= 1\n",
    "is_sigma_natural = (analysis_frame[\"sigma_natural\"]).sum() >= 1\n",
    "\n",
    "print_frame = analysis_frame[[\n",
    "    \"n\", \"v_1\", \"collatz\", \"next_odd\", \"multiple\",  \n",
    "    \"self_contained\", \"beta_i\", \"beta\", \n",
    "    \"alpha\", \"sigma\", \"sigma_natural\"]]\n",
    "\n",
    "print_frame.columns = [\n",
    "    \"n\",\"v_1\", \"v_i\", \"v_i+\", \"m\", \"sc\", \"b_i\", \"b\", \n",
    "    \"a\", \"s\", \"s_natural\"]\n",
    "\n",
    "print(\"Start value:\", START_VALUE, \n",
    "      \" K:\", K_FACTOR, \n",
    "      \" Self contained:\", is_self_contained,\n",
    "      \" Sigma natural:\", is_sigma_natural,\n",
    "      \"\\n\")\n",
    "\n",
    "if PRINT_TABLE:\n",
    "    print(print_frame.to_string(index=False), \"\\n\")\n",
    "    "
   ],
   "metadata": {
    "collapsed": false,
    "pycharm": {
     "name": "#%%\n",
     "is_executing": false
    }
   }
  },
  {
   "cell_type": "code",
   "execution_count": 6,
   "outputs": [
    {
     "data": {
      "text/plain": "<Figure size 432x288 with 1 Axes>",
      "image/png": "[encoded data removed]"
     },
     "metadata": {
      "needs_background": "light"
     },
     "output_type": "display_data"
    }
   ],
   "source": [
    "# Plot results\n",
    "plt.figure()\n",
    "plt.title(\"Collatz\")\n",
    "plt.plot(analysis_frame[\"collatz\"], \"-\")\n",
    "plt.show()"
   ],
   "metadata": {
    "collapsed": false,
    "pycharm": {
     "name": "#%%\n",
     "is_executing": false
    }
   }
  }
 ],
 "metadata": {
  "kernelspec": {
   "name": "collatz",
   "language": "python",
   "display_name": "collatz"
  },
  "language_info": {
   "codemirror_mode": {
    "name": "ipython",
    "version": 2
   },
   "file_extension": ".py",
   "mimetype": "text/x-python",
   "name": "python",
   "nbconvert_exporter": "python",
   "pygments_lexer": "ipython2",
   "version": "2.7.6"
  },
  "pycharm": {
   "stem_cell": {
    "cell_type": "raw",
    "source": [],
    "metadata": {
     "collapsed": false
    }
   }
  }
 },
 "nbformat": 4,
 "nbformat_minor": 0
}