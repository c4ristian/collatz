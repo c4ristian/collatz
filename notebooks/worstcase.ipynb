{
 "cells": [
  {
   "cell_type": "markdown",
   "source": [
    "Collatz worst case notebook"
   ],
   "metadata": {
    "collapsed": false
   }
  },
  {
   "cell_type": "code",
   "execution_count": 1,
   "metadata": {
    "collapsed": true,
    "pycharm": {
     "is_executing": false
    }
   },
   "outputs": [
    {
     "name": "stdout",
     "text": [
      "v1: 2047  K: 3 Valid: False \n\n      v1        vn_1         gn_1  a_pred  a_n_2    vn_2  vn_2_reduced  max_valid\n1   2047     3071.00      9214.00       5      4  575.88    576.312500       True\n2   2047     4607.00     13822.00       6      4  863.88    864.968750       True\n3   2047     6911.00     20734.00       8      5  647.94    650.164062       True\n4   2047    10367.00     31102.00       9      5  971.94    975.746094       True\n5   2047    15551.00     46654.00      11      6  728.97    735.356445       True\n6   2047    23327.00     69982.00      13      7  546.73    556.962646       True\n7   2047    34991.00    104974.00      14      7  820.11    835.943970       True\n8   2047    52487.00    157462.00      16      8  615.09    639.522430       True\n9   2047    78731.00    236194.00      17      8  922.63    959.783646       True\n10  2047   118097.00    354292.00      19      9  691.98    748.420254       True\n11  2047   177146.00    531439.00      21     10  518.98    604.313970       True\n12  2047   265719.50    797159.50      22     10  778.48    906.970954       True\n13  2047   398579.75   1195740.25      24     11  583.86    777.287969       True\n14  2047   597870.12   1793611.38      25     11  875.79   1166.431954       True\n15  2047   896805.69   2690418.06      27     12  656.84   1093.520911       True\n16  2047  1345209.03   4035628.09      28     12  985.26   1640.781366       True\n17  2047  2017814.05   6053443.14      30     13  738.95   1722.966651       True\n18  2047  3026721.57   9080165.71      32     14  554.21   2030.920928       True\n19  2047  4540082.86  13620249.57      33     14  831.31   3046.881392      False\n20  2047  6810124.78  20430375.35      35     15  623.49   3947.539409      False\n"
     ],
     "output_type": "stream"
    }
   ],
   "source": [
    "\"\"\"\n",
    "This notebook analyses the hypothetical worst case of a Collatz sequence. The sequence \n",
    "starts with a specific odd number v1. In every iteration of the sequence \n",
    "only one division by 2 is performed. The alpha of the sequence therefore equals n. The \n",
    "notebook analyses how a predicted alpha that could lead to a cycle, would influence \n",
    "the worst-case-sequence.\n",
    "\"\"\"\n",
    "\n",
    "# Imports\n",
    "from math import log2\n",
    "import pandas as pd\n",
    "\n",
    "# Configuration\n",
    "k = 3\n",
    "v1 = int('11111111111', 2)\n",
    "max_n = 20\n",
    "\n",
    "pd.set_option('display.expand_frame_repr', False)\n",
    "pd.set_option('display.max_rows', 10000)\n",
    "pd.set_option('display.expand_frame_repr', False)\n",
    "\n",
    "# Calculations\n",
    "n = pd.Series(range(1, max_n + 1))\n",
    "\n",
    "alpha_pred = ((n + 1) * log2(k)).astype('int64') + 1 + 1\n",
    "alpha_n_2 = alpha_pred - n\n",
    "\n",
    "# Calculate worst case with reduction in the last iteration\n",
    "vn_1 = (k**n * (k * v1 - 2 * v1 + 1) - 2**n) / \\\n",
    "       (2**n * (k - 2))\n",
    "\n",
    "gn_1 = k * vn_1 + 1\n",
    "vn_2 = gn_1 / 2**alpha_n_2.astype('float64')\n",
    "\n",
    "# Calculate worst case with reduction in the first iteration\n",
    "v1_reduced = (v1 * 3 + 1) / 2**alpha_n_2.astype('float64')\n",
    "vn_2_reduced = (k**n * (k * v1_reduced - 2 * v1_reduced + 1) - 2**n) / \\\n",
    "               (2**n * (k - 2))\n",
    "\n",
    "analysis_frame = pd.DataFrame({\n",
    "    \"v1\": v1,\n",
    "    \"vn_1\": vn_1.round(2),\n",
    "    \"gn_1\": gn_1.round(2),\n",
    "    \"a_pred\": alpha_pred,\n",
    "    \"a_n_2\": alpha_n_2,\n",
    "    \"vn_2\": vn_2.round(2),\n",
    "    \"vn_2_reduced\": vn_2_reduced\n",
    "})\n",
    "\n",
    "analysis_frame.index = analysis_frame.index + 1\n",
    "analysis_frame[\"max_valid\"] = (analysis_frame[\"vn_2\"] < analysis_frame[\"v1\"]) & \\\n",
    "    (analysis_frame[\"vn_2_reduced\"] < analysis_frame[\"v1\"])\n",
    "\n",
    "max_valid = analysis_frame[\"max_valid\"].min()  > 0\n",
    "\n",
    "# Print results\n",
    "print_frame = analysis_frame\n",
    "\n",
    "print(\"v1:\", v1, \" K:\", k, \"Valid:\", max_valid, \"\\n\")\n",
    "print(print_frame)"
   ]
  }
 ],
 "metadata": {
  "kernelspec": {
   "display_name": "Python 3",
   "language": "python",
   "name": "python3"
  },
  "language_info": {
   "codemirror_mode": {
    "name": "ipython",
    "version": 2
   },
   "file_extension": ".py",
   "mimetype": "text/x-python",
   "name": "python",
   "nbconvert_exporter": "python",
   "pygments_lexer": "ipython2",
   "version": "2.7.6"
  },
  "pycharm": {
   "stem_cell": {
    "cell_type": "raw",
    "source": [],
    "metadata": {
     "collapsed": false
    }
   }
  }
 },
 "nbformat": 4,
 "nbformat_minor": 0
}