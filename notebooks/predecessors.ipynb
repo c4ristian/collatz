{
 "cells": [
  {
   "cell_type": "markdown",
   "metadata": {
    "collapsed": true,
    "pycharm": {
     "is_executing": false,
     "name": "#%% md\n"
    }
   },
   "source": [
    "Collatz predecessor notebook"
   ]
  },
  {
   "cell_type": "code",
   "execution_count": 1,
   "metadata": {
    "pycharm": {
     "is_executing": false,
     "name": "#%%\n"
    }
   },
   "outputs": [
    {
     "name": "stdout",
     "text": [
      "Start Value: 1 K: 3 mod: 1 \n\n            collatz  alpha  mod_k\n0                 1      2      1\n1                 5      4      2\n2                21      6      0\n3                85      8      1\n4               341     10      2\n5              1365     12      0\n6              5461     14      1\n7             21845     16      2\n8             87381     18      0\n9            349525     20      1\n10          1398101     22      2\n11          5592405     24      0\n12         22369621     26      1\n13         89478485     28      2\n14        357913941     30      0\n15       1431655765     32      1\n16       5726623061     34      2\n17      22906492245     36      0\n18      91625968981     38      1\n19     366503875925     40      2\n20    1466015503701     42      0\n21    5864062014805     44      1\n22   23456248059221     46      2\n23   93824992236885     48      0\n24  375299968947541     50      1\n"
     ],
     "output_type": "stream"
    }
   ],
   "source": [
    "\"\"\"\n",
    "This notebook analyses the predecessors of numbers in a a collatz sequences for a\n",
    "specific factor k. The predecessors are determined with the help of an iterative \n",
    "process. As a result the predecessors are printed.\n",
    "\"\"\"\n",
    "\n",
    "import random as rnd\n",
    "import pandas as pd\n",
    "from collatz import commons, graph\n",
    "\n",
    "# Configure the analyser\n",
    "K_FACTOR = 3\n",
    "POWER_RANGE = range(1, 51)\n",
    "\n",
    "pd.set_option('display.expand_frame_repr', False)\n",
    "pd.set_option('display.max_rows', 10000)\n",
    "pd.set_option('display.expand_frame_repr', False)\n",
    "\n",
    "start_value = rnd.randint(1, 1000)\n",
    "start_value = start_value if start_value % 2 == 1 else start_value + 1\n",
    "start_value = 1\n",
    "\n",
    "# Get the predecessors of the starting value and analyse them\n",
    "predecessors, alphas = graph.get_odd_predecessors(start_value, K_FACTOR, POWER_RANGE)\n",
    "analysis_frame = commons.analyse_collatz_basic_attributes(predecessors)\n",
    "\n",
    "analysis_frame[\"mod_k\"] = analysis_frame[\"collatz\"] % K_FACTOR\n",
    "analysis_frame[\"alpha\"] = alphas\n",
    "\n",
    "# Print results\n",
    "start_mod = start_value % K_FACTOR\n",
    "print(\"Start Value:\", start_value, \"K:\", K_FACTOR, \"mod:\", start_mod,\"\\n\")\n",
    "print(analysis_frame[[\"collatz\", \"alpha\", \"mod_k\"]])"
   ]
  }
 ],
 "metadata": {
  "kernelspec": {
   "display_name": "Python 3",
   "language": "python",
   "name": "python3"
  },
  "language_info": {
   "codemirror_mode": {
    "name": "ipython",
    "version": 3
   },
   "file_extension": ".py",
   "mimetype": "text/x-python",
   "name": "python",
   "nbconvert_exporter": "python",
   "pygments_lexer": "ipython3",
   "version": "3.7.4"
  },
  "pycharm": {
   "stem_cell": {
    "cell_type": "raw",
    "source": [],
    "metadata": {
     "collapsed": false
    }
   }
  }
 },
 "nbformat": 4,
 "nbformat_minor": 1
}